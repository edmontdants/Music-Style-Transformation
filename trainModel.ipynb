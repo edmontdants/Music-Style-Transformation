{
 "cells": [
  {
   "cell_type": "markdown",
   "metadata": {},
   "source": [
    "# Part 1. Music Data Processing"
   ]
  },
  {
   "cell_type": "code",
   "execution_count": 1,
   "metadata": {},
   "outputs": [],
   "source": [
    "# Import the necessary packages\n",
    "import music21\n",
    "from music21 import  *\n",
    "import shutil\n",
    "import pandas as pd\n",
    "import numpy as np\n",
    "import sys, re, itertools, random, os\n",
    "from collections import Counter, defaultdict\n",
    "from sklearn.cluster import KMeans\n",
    "import os\n",
    "from functions import *"
   ]
  },
  {
   "cell_type": "markdown",
   "metadata": {},
   "source": [
    "## ATTENTION\n",
    "\n",
    "***1. All the def functions we used in this notebook are written in functions.py file and we've upload another notebook named functions with specific examples to show the detail of each def function. ***\n",
    "\n",
    "***2. Since we will process many files in this notebook, printing all the information in this notebook will slow the processing time. Thus we will only print several lines in each file as an illustraction.***\n",
    "\n",
    "***3. If you want to try this part by yourself, you should delete the original files(such as .txt,.chord and .node files), otherwise the new information will be written in the original files repeatly.***"
   ]
  },
  {
   "cell_type": "markdown",
   "metadata": {},
   "source": [
    "## 1.1 Transfer MIDI Music to Txt File\n",
    "\n",
    "***补充music21和MIDI信息***\n",
    "\n",
    "A midi song is usually composed of multiple instrument tracks. One instrument track serves as the main melody throughout the song, and other instrument tracks serve as accompaniment tracks. This section deals with the MIDI songs with the piano melody and extract the piano track information by using [music21](http://web.mit.edu/music21/), then save the information in a txt file.\n",
    "\n",
    "Now we use 60 jazz songs (put in jazz-music-example folder) as an example. The command below will transfer these songs to txt format with their track information.\n",
    "Our original songs looks like:\n",
    "\n",
    "![](img/jazz-music-mid.png)"
   ]
  },
  {
   "cell_type": "code",
   "execution_count": 2,
   "metadata": {},
   "outputs": [
    {
     "name": "stdout",
     "output_type": "stream",
     "text": [
      "The first 10 songs in iazz example: \n"
     ]
    },
    {
     "data": {
      "text/plain": [
       "['Four on Six - Wes Montgomery_chord.txt',\n",
       " 'Body and Soul - 2 - Parker_chord.txt',\n",
       " 'Corcovado - Jobim_chord.txt',\n",
       " 'C jam blues - Duke Ellington_chord.txt',\n",
       " 'Falling in Love - 2 - Rodgers & Hart.mid',\n",
       " 'Grooving - Buddy Rich.mid',\n",
       " 'Georgia on my Mind - 2 - Hoagi Charmichael_chord.txt',\n",
       " 'Boplicity - Parker.mid',\n",
       " 'C jam blues - Duke Ellington.mid',\n",
       " 'Blue Trane - Coltrane.mid']"
      ]
     },
     "execution_count": 2,
     "metadata": {},
     "output_type": "execute_result"
    }
   ],
   "source": [
    "print (\"The first 10 songs in iazz example: \")\n",
    "os.listdir(\"jazz-music-example\")[0:10]"
   ]
  },
  {
   "cell_type": "code",
   "execution_count": 3,
   "metadata": {},
   "outputs": [],
   "source": [
    "file_path = \"001\"\n",
    "for file in os.listdir(file_path):\n",
    "    if file.endswith(\".mid\"):\n",
    "        path = os.path.join(file_path, file)\n",
    "        TransferMidToChordTxt(path)"
   ]
  },
  {
   "cell_type": "markdown",
   "metadata": {},
   "source": [
    "**TransferMidToChordTxt** is a def function and we've written it in functions.py. To save space, we will not introduct the functions in this notbook, but put all of them in functions.ipynb with specific examples.\n",
    "Now all the songs have generated their chord information in .txt files in the jazz-music-example folder.\n",
    "\n",
    "![](img/jazz-music-txt.png)"
   ]
  },
  {
   "cell_type": "markdown",
   "metadata": {},
   "source": [
    "## 1.2 Devide Data\n",
    "\n",
    "We collect 800 jazz style songs in MIDI format and transfer them into .txt based on part 1.1, then devide these txt files in three parts: train, dev and test. "
   ]
  },
  {
   "cell_type": "code",
   "execution_count": 15,
   "metadata": {},
   "outputs": [
    {
     "name": "stdout",
     "output_type": "stream",
     "text": [
      "The first 10 songs in train: \n"
     ]
    },
    {
     "data": {
      "text/plain": [
       "['Gaviota trio 2_chord.txt',\n",
       " 'sammy_walked_in-Michel-Camilo-pt_dm_chord.txt',\n",
       " 'embraceable_you_jhall_chord.txt',\n",
       " 'suddenly_ocean_jlh_chord.txt',\n",
       " 'masquerade_dz_chord.txt',\n",
       " 'i_have_but_one_heart_rs_chord.txt',\n",
       " 'TakinACh_chord.txt',\n",
       " 'clean_sweep_rmb_chord.txt',\n",
       " 'Corcovado - Jobim_chord.txt',\n",
       " 'honky_tonk_train_blues_eh2_chord.txt']"
      ]
     },
     "execution_count": 15,
     "metadata": {},
     "output_type": "execute_result"
    }
   ],
   "source": [
    "print (\"The first 10 songs in train: \")\n",
    "os.listdir(\"music-data/train\")[0:10]"
   ]
  },
  {
   "cell_type": "code",
   "execution_count": 16,
   "metadata": {},
   "outputs": [
    {
     "name": "stdout",
     "output_type": "stream",
     "text": [
      "The first 10 songs in dev: \n"
     ]
    },
    {
     "data": {
      "text/plain": [
       "['well_meet_again_rs_chord.txt',\n",
       " 'you_were_never_lovelier-1939-kar_jpp_chord.txt',\n",
       " 'whydidi_chord.txt',\n",
       " 'when_joanna_loved_me-tony-bennett-kar_rt_chord.txt',\n",
       " 'weather_channel_ce_chord.txt',\n",
       " 'washington_square_bw2_chord.txt',\n",
       " 'When I Fall in Love_chord.txt',\n",
       " 'youll_never_know_rs_chord.txt',\n",
       " 'WhyDoILoveYou_chord.txt',\n",
       " 'you_belong_to_me-dk3074_dk_chord.txt']"
      ]
     },
     "execution_count": 16,
     "metadata": {},
     "output_type": "execute_result"
    }
   ],
   "source": [
    "print (\"The first 10 songs in dev: \")\n",
    "os.listdir(\"music-data/dev\")[0:10]"
   ]
  },
  {
   "cell_type": "code",
   "execution_count": 17,
   "metadata": {},
   "outputs": [
    {
     "name": "stdout",
     "output_type": "stream",
     "text": [
      "The first 10 songs in test: \n"
     ]
    },
    {
     "data": {
      "text/plain": [
       "['big_dipper_gw_chord.txt',\n",
       " 'Body and Soul - 2 - Parker_chord.txt',\n",
       " 'between_the_sheets_mellod_chord.txt',\n",
       " 'accentuate_the_positive_jh_chord.txt',\n",
       " 'a_taste_of_honey_dc_chord.txt',\n",
       " 'all_of_me-1931-vs2-kar_jpp_chord.txt',\n",
       " 'bags_groove_jh_chord.txt',\n",
       " 'AllTheThings Reharmonized_chord.txt',\n",
       " 'blues_jc3_chord.txt',\n",
       " 'bach_variations_sn_chord.txt']"
      ]
     },
     "execution_count": 17,
     "metadata": {},
     "output_type": "execute_result"
    }
   ],
   "source": [
    "print (\"The first 10 songs in test: \")\n",
    "os.listdir(\"music-data/test\")[0:10]"
   ]
  },
  {
   "cell_type": "code",
   "execution_count": 18,
   "metadata": {},
   "outputs": [
    {
     "name": "stdout",
     "output_type": "stream",
     "text": [
      "Total train: 600\n",
      "Total dev: 50\n",
      "Total test: 150\n"
     ]
    }
   ],
   "source": [
    "print (\"Total train:\",len(os.listdir(\"music-data/train\")))\n",
    "print (\"Total dev:\",len(os.listdir(\"music-data/dev\")))\n",
    "print (\"Total test:\",len(os.listdir(\"music-data/test\")))"
   ]
  },
  {
   "cell_type": "markdown",
   "metadata": {},
   "source": [
    "## 1.3 Extract Node and Chord Information in Each Folder\n",
    "\n",
    "In this part, we will sepearate the track information into node information and chord information by using **ExtractNodeAndChord** function. Using train data asexample, firstly we input the train folder with the 600 .txt files, then extract the node and chord information of each file and finally cooperate the nodes and chords into train.node and train.chord files."
   ]
  },
  {
   "cell_type": "code",
   "execution_count": 24,
   "metadata": {},
   "outputs": [],
   "source": [
    "split_length = 20\n",
    "input_path = \"music-data/train\"\n",
    "out_node_path = \"music-data/train.node\"\n",
    "out_chord_path = \"music-data/train.chord\"\n",
    "\n",
    "for file in os.listdir(input_path):\n",
    "    if file.endswith(\".txt\"):\n",
    "        path = os.path.join(input_path, file)\n",
    "        ExtractNodeAndChord(path, split_length,out_node_path,out_chord_path)"
   ]
  },
  {
   "cell_type": "code",
   "execution_count": 32,
   "metadata": {},
   "outputs": [
    {
     "name": "stdout",
     "output_type": "stream",
     "text": [
      "The first 5 lines in train.node:\n",
      "{F-sharp_in_octave_2_|_C_in_octave_2} {C-sharp_in_octave_2_|_F-sharp_in_octave_2} {B_in_octave_2_|_F-sharp_in_octave_2} {D_in_octave_3_|_F-sharp_in_octave_2} {B_in_octave_2_|_F-sharp_in_octave_2} {C_in_octave_2_|_F-sharp_in_octave_2} {C-sharp_in_octave_2_|_F-sharp_in_octave_2} {B_in_octave_2_|_F-sharp_in_octave_2} {D_in_octave_3_|_F-sharp_in_octave_2} {B_in_octave_2_|_F-sharp_in_octave_2} {C_in_octave_2_|_F-sharp_in_octave_2} {C-sharp_in_octave_2_|_F-sharp_in_octave_2} {B_in_octave_2_|_F-sharp_in_octave_2} {D_in_octave_3_|_F-sharp_in_octave_2} {B_in_octave_2_|_F-sharp_in_octave_2} {C_in_octave_2_|_F-sharp_in_octave_2} {C-sharp_in_octave_2_|_F-sharp_in_octave_2} {B_in_octave_2_|_F-sharp_in_octave_2} {D_in_octave_3_|_F-sharp_in_octave_2} {B_in_octave_2_|_F-sharp_in_octave_2}\n",
      "{C_in_octave_2_|_F-sharp_in_octave_2} {C-sharp_in_octave_2_|_F-sharp_in_octave_2} {B_in_octave_2_|_F-sharp_in_octave_2} {D_in_octave_3_|_F-sharp_in_octave_2} {B_in_octave_2_|_F-sharp_in_octave_2} {C_in_octave_2_|_F-sharp_in_octave_2} {C-sharp_in_octave_2_|_F-sharp_in_octave_2} {B_in_octave_2_|_F-sharp_in_octave_2} {D_in_octave_3_|_F-sharp_in_octave_2} {B_in_octave_2_|_F-sharp_in_octave_2} {C_in_octave_2_|_F-sharp_in_octave_2} {C-sharp_in_octave_2_|_F-sharp_in_octave_2} {B_in_octave_2_|_F-sharp_in_octave_2} {D_in_octave_3_|_F-sharp_in_octave_2} {B_in_octave_2_|_F-sharp_in_octave_2} {C_in_octave_2_|_F-sharp_in_octave_2} {C-sharp_in_octave_2_|_F-sharp_in_octave_2} {B_in_octave_2_|_F-sharp_in_octave_2} {D_in_octave_3_|_F-sharp_in_octave_2} {B_in_octave_2_|_F-sharp_in_octave_2}\n",
      "{C_in_octave_2_|_F-sharp_in_octave_2} {E-flat_in_octave_4_|_D_in_octave_4} {F-sharp_in_octave_2_|_C-sharp_in_octave_2} {D_in_octave_4_|_E-flat_in_octave_5} {F-sharp_in_octave_2_|_B_in_octave_2} {F-sharp_in_octave_2_|_D_in_octave_3} {F-sharp_in_octave_2_|_B_in_octave_2} {C_in_octave_2_|_F-sharp_in_octave_2} {E_in_octave_4_|_E-flat_in_octave_4} {C-sharp_in_octave_2_|_F-sharp_in_octave_2} {E-flat_in_octave_5_|_D_in_octave_4} {B_in_octave_2_|_F-sharp_in_octave_2} {F-sharp_in_octave_2_|_D_in_octave_3} {F-sharp_in_octave_2_|_B_in_octave_2} {C_in_octave_2_|_F-sharp_in_octave_2} {C-sharp_in_octave_2_|_F-sharp_in_octave_2} {E-flat_in_octave_5_|_D_in_octave_4} {F-sharp_in_octave_2_|_B_in_octave_2} {F-sharp_in_octave_2_|_D_in_octave_3} {E_in_octave_4_|_E-flat_in_octave_5}\n",
      "{B_in_octave_2_|_F-sharp_in_octave_2} {C_in_octave_2_|_F-sharp_in_octave_2} {C-sharp_in_octave_2_|_F-sharp_in_octave_2} {E-flat_in_octave_5_|_D_in_octave_4} {E-flat_in_octave_5_|_D_in_octave_4} {B_in_octave_2_|_F-sharp_in_octave_2} {D_in_octave_4_|_F-sharp_in_octave_4} {D_in_octave_3_|_F-sharp_in_octave_2} {E_in_octave_4_|_F-sharp_in_octave_4} {F-sharp_in_octave_2_|_B_in_octave_2} {C_in_octave_2_|_F-sharp_in_octave_2} {E-flat_in_octave_4_|_D_in_octave_4} {C-sharp_in_octave_2_|_F-sharp_in_octave_2} {D_in_octave_4_|_E-flat_in_octave_5} {B_in_octave_2_|_F-sharp_in_octave_2} {D_in_octave_3_|_F-sharp_in_octave_2} {B_in_octave_2_|_F-sharp_in_octave_2} {C_in_octave_2_|_F-sharp_in_octave_2} {E-flat_in_octave_4_|_E_in_octave_4} {C-sharp_in_octave_2_|_F-sharp_in_octave_2}\n",
      "{E-flat_in_octave_5_|_D_in_octave_4} {B_in_octave_2_|_F-sharp_in_octave_2} {D_in_octave_3_|_F-sharp_in_octave_2} {F-sharp_in_octave_2_|_B_in_octave_2} {F-sharp_in_octave_2_|_C_in_octave_2} {C-sharp_in_octave_2_|_F-sharp_in_octave_2} {D_in_octave_4_|_E-flat_in_octave_5} {F-sharp_in_octave_2_|_B_in_octave_2} {D_in_octave_3_|_F-sharp_in_octave_2} {E-flat_in_octave_5_|_E_in_octave_4} {F-sharp_in_octave_2_|_B_in_octave_2} {C_in_octave_2_|_F-sharp_in_octave_2} {F-sharp_in_octave_2_|_C-sharp_in_octave_2} {E-flat_in_octave_5_|_D_in_octave_4_|_F_in_octave_4_|_F-sharp_in_octave_4} {F_in_octave_4_|_D_in_octave_4} {D_in_octave_4_|_E-flat_in_octave_5_|_F_in_octave_4} {B_in_octave_2_|_F-sharp_in_octave_2} {D_in_octave_4_|_F_in_octave_4} {F-sharp_in_octave_2_|_D_in_octave_3} {B_in_octave_2_|_F-sharp_in_octave_2}\n",
      "The first 5 lines in train.chord:\n",
      "F#2 F#2 B2 D3 B2 F#2 F#2 B2 D3 B2 F#2 F#2 B2 D3 B2 F#2 F#2 B2 D3 B2\n",
      "F#2 F#2 B2 D3 B2 F#2 F#2 B2 D3 B2 F#2 F#2 B2 D3 B2 F#2 F#2 B2 D3 B2\n",
      "F#2 E F#2 E B2 D3 B2 F#2 E4 F#2 E B2 D3 B2 F#2 F#2 E B2 D3 E4\n",
      "B2 F#2 F#2 E E B2 D4 D3 F#4 B2 F#2 E F#2 E B2 D3 B2 F#2 E F#2\n",
      "E B2 D3 B2 F#2 F#2 E B2 D3 E B2 F#2 F#2 D4 D4 D4 B2 D4 D3 B2\n"
     ]
    }
   ],
   "source": [
    "file_path = \"music-data/train.node\"\n",
    "num = 5\n",
    "print (\"The first\",num,\"lines in train.node:\")\n",
    "PrintNumLines(file_path,num)\n",
    "\n",
    "file_path = \"music-data/train.chord\"\n",
    "num = 5\n",
    "print (\"The first\",num,\"lines in train.chord:\")\n",
    "PrintNumLines(file_path,num)"
   ]
  },
  {
   "cell_type": "code",
   "execution_count": 26,
   "metadata": {},
   "outputs": [],
   "source": [
    "input_path = \"music-data/dev\"\n",
    "out_node_path = \"music-data/dev.node\"\n",
    "out_chord_path = \"music-data/dev.chord\"\n",
    "\n",
    "for file in os.listdir(input_path):\n",
    "    if file.endswith(\".txt\"):\n",
    "        path = os.path.join(input_path, file)\n",
    "        ExtractNodeAndChord(path, split_length,out_node_path,out_chord_path)"
   ]
  },
  {
   "cell_type": "code",
   "execution_count": 33,
   "metadata": {},
   "outputs": [
    {
     "name": "stdout",
     "output_type": "stream",
     "text": [
      "The first 5 lines in dev.node:\n",
      "{F_in_octave_3_|_G_in_octave_3_|_D_in_octave_3} {F_in_octave_3_|_A_in_octave_3} {C_in_octave_4_|_E_in_octave_3} {B_in_octave_1_|_F-sharp_in_octave_2_|_C-sharp_in_octave_3} {F-sharp_in_octave_2_|_C-sharp_in_octave_2} {B_in_octave_1_|_F-sharp_in_octave_2} {B_in_octave_1_|_F-sharp_in_octave_2} {F-sharp_in_octave_2_|_C-sharp_in_octave_2} {B_in_octave_1_|_F-sharp_in_octave_2} {B_in_octave_1_|_F-sharp_in_octave_2} {F-sharp_in_octave_2_|_C-sharp_in_octave_2} {B_in_octave_1_|_F-sharp_in_octave_2} {B_in_octave_1_|_F-sharp_in_octave_2} {F-sharp_in_octave_2_|_C-sharp_in_octave_2} {B_in_octave_1_|_F-sharp_in_octave_2} {B_in_octave_1_|_F-sharp_in_octave_2} {F-sharp_in_octave_2_|_C-sharp_in_octave_2} {B_in_octave_1_|_F-sharp_in_octave_2} {B_in_octave_1_|_F-sharp_in_octave_2} {F-sharp_in_octave_2_|_C-sharp_in_octave_2}\n",
      "{B_in_octave_1_|_F-sharp_in_octave_2} {B_in_octave_1_|_F-sharp_in_octave_2} {F-sharp_in_octave_2_|_C-sharp_in_octave_2} {B_in_octave_1_|_F-sharp_in_octave_2} {B_in_octave_1_|_F-sharp_in_octave_2} {F-sharp_in_octave_2_|_C-sharp_in_octave_2} {B_in_octave_1_|_F-sharp_in_octave_2} {B_in_octave_1_|_F-sharp_in_octave_2} {F-sharp_in_octave_2_|_C-sharp_in_octave_2} {B_in_octave_1_|_F-sharp_in_octave_2} {B_in_octave_1_|_F-sharp_in_octave_2} {F-sharp_in_octave_2_|_C-sharp_in_octave_2} {B_in_octave_1_|_F-sharp_in_octave_2} {B_in_octave_1_|_F-sharp_in_octave_2} {F-sharp_in_octave_2_|_C-sharp_in_octave_2} {B_in_octave_1_|_F-sharp_in_octave_2} {B_in_octave_1_|_F-sharp_in_octave_2} {B_in_octave_1_|_F-sharp_in_octave_2} {F-sharp_in_octave_2_|_C-sharp_in_octave_2} {B_in_octave_1_|_F-sharp_in_octave_2}\n",
      "{B_in_octave_1_|_F-sharp_in_octave_2} {F-sharp_in_octave_2_|_C-sharp_in_octave_2} {B_in_octave_1_|_F-sharp_in_octave_2} {B_in_octave_1_|_F-sharp_in_octave_2} {F-sharp_in_octave_2_|_C-sharp_in_octave_2} {B_in_octave_1_|_F-sharp_in_octave_2} {B_in_octave_1_|_F-sharp_in_octave_2} {F-sharp_in_octave_2_|_C-sharp_in_octave_2} {B_in_octave_1_|_F-sharp_in_octave_2} {B_in_octave_1_|_F-sharp_in_octave_2} {B_in_octave_1_|_F-sharp_in_octave_2} {D_in_octave_2_|_F-sharp_in_octave_2} {B_in_octave_1_|_D_in_octave_2_|_B-flat_in_octave_2} {B_in_octave_1_|_F-sharp_in_octave_2_|_C-sharp_in_octave_3} {F-sharp_in_octave_2_|_C-sharp_in_octave_2} {B_in_octave_1_|_F-sharp_in_octave_2} {B_in_octave_1_|_F-sharp_in_octave_2} {F-sharp_in_octave_2_|_C-sharp_in_octave_2} {B_in_octave_1_|_F-sharp_in_octave_2} {B_in_octave_1_|_F-sharp_in_octave_2}\n",
      "{F-sharp_in_octave_2_|_C-sharp_in_octave_2} {B_in_octave_1_|_F-sharp_in_octave_2} {B_in_octave_1_|_F-sharp_in_octave_2} {F-sharp_in_octave_2_|_C-sharp_in_octave_2} {B_in_octave_1_|_F-sharp_in_octave_2} {B_in_octave_1_|_F-sharp_in_octave_2} {F-sharp_in_octave_2_|_C-sharp_in_octave_2} {B_in_octave_1_|_F-sharp_in_octave_2} {B_in_octave_1_|_F-sharp_in_octave_2} {F-sharp_in_octave_2_|_C-sharp_in_octave_2} {B_in_octave_1_|_F-sharp_in_octave_2} {B_in_octave_1_|_F-sharp_in_octave_2} {F-sharp_in_octave_2_|_C-sharp_in_octave_2} {B_in_octave_1_|_F-sharp_in_octave_2} {B_in_octave_1_|_F-sharp_in_octave_2} {F-sharp_in_octave_2_|_C-sharp_in_octave_2} {B_in_octave_1_|_F-sharp_in_octave_2} {B_in_octave_1_|_F-sharp_in_octave_2} {F-sharp_in_octave_2_|_C-sharp_in_octave_2} {B_in_octave_1_|_F-sharp_in_octave_2}\n",
      "{B_in_octave_1_|_F-sharp_in_octave_2} {F-sharp_in_octave_2_|_C-sharp_in_octave_2} {B_in_octave_1_|_F-sharp_in_octave_2} {B_in_octave_1_|_F-sharp_in_octave_2} {F-sharp_in_octave_2_|_C-sharp_in_octave_2} {B_in_octave_1_|_F-sharp_in_octave_2} {B_in_octave_1_|_F-sharp_in_octave_2} {F-sharp_in_octave_2_|_C-sharp_in_octave_2} {B_in_octave_1_|_F-sharp_in_octave_2} {B_in_octave_1_|_F-sharp_in_octave_2} {F-sharp_in_octave_2_|_C-sharp_in_octave_2} {B_in_octave_1_|_F-sharp_in_octave_2} {B_in_octave_1_|_F-sharp_in_octave_2} {F-sharp_in_octave_2_|_C-sharp_in_octave_2} {B_in_octave_1_|_F-sharp_in_octave_2} {B_in_octave_1_|_F-sharp_in_octave_2} {F-sharp_in_octave_2_|_C-sharp_in_octave_2} {B_in_octave_1_|_F-sharp_in_octave_2} {B_in_octave_1_|_F-sharp_in_octave_2} {D_in_octave_2_|_F-sharp_in_octave_2}\n",
      "The first 5 lines in dev.chord:\n",
      "G3 F3 C4 B1 F#2 B1 B1 F#2 B1 B1 F#2 B1 B1 F#2 B1 B1 F#2 B1 B1 F#2\n",
      "B1 B1 F#2 B1 B1 F#2 B1 B1 F#2 B1 B1 F#2 B1 B1 F#2 B1 B1 B1 F#2 B1\n",
      "B1 F#2 B1 B1 F#2 B1 B1 F#2 B1 B1 B1 D2 B1 B1 F#2 B1 B1 F#2 B1 B1\n",
      "F#2 B1 B1 F#2 B1 B1 F#2 B1 B1 F#2 B1 B1 F#2 B1 B1 F#2 B1 B1 F#2 B1\n",
      "B1 F#2 B1 B1 F#2 B1 B1 F#2 B1 B1 F#2 B1 B1 F#2 B1 B1 F#2 B1 B1 D2\n"
     ]
    }
   ],
   "source": [
    "file_path = \"music-data/dev.node\"\n",
    "num = 5\n",
    "print (\"The first\",num,\"lines in dev.node:\")\n",
    "PrintNumLines(file_path,num)\n",
    "\n",
    "file_path = \"music-data/dev.chord\"\n",
    "num = 5\n",
    "print (\"The first\",num,\"lines in dev.chord:\")\n",
    "PrintNumLines(file_path,num)"
   ]
  },
  {
   "cell_type": "code",
   "execution_count": 29,
   "metadata": {},
   "outputs": [],
   "source": [
    "input_path = \"music-data/test\"\n",
    "out_node_path = \"music-data/test.node\"\n",
    "out_chord_path = \"music-data/test.chord\"\n",
    "\n",
    "for file in os.listdir(input_path):\n",
    "    if file.endswith(\".txt\"):\n",
    "        path = os.path.join(input_path, file)\n",
    "        ExtractNodeAndChord(path, split_length,out_node_path,out_chord_path)"
   ]
  },
  {
   "cell_type": "code",
   "execution_count": 34,
   "metadata": {},
   "outputs": [
    {
     "name": "stdout",
     "output_type": "stream",
     "text": [
      "The first 5 lines in test.node:\n",
      "{E_in_octave_4_|_B_in_octave_3_|_A_in_octave_3_|_F_in_octave_3} {D_in_octave_4_|_B_in_octave_3_|_A_in_octave_4_|_F_in_octave_3} {D_in_octave_4_|_B_in_octave_3_|_A_in_octave_4_|_F_in_octave_3} {D_in_octave_4_|_B_in_octave_3_|_A_in_octave_4_|_F_in_octave_3} {D_in_octave_4_|_B_in_octave_3_|_A_in_octave_4_|_F_in_octave_3} {D_in_octave_4_|_B_in_octave_3_|_A_in_octave_4_|_F_in_octave_3} {D_in_octave_4_|_B_in_octave_3_|_A_in_octave_4_|_F_in_octave_3} {D_in_octave_4_|_B_in_octave_3_|_A_in_octave_4_|_F_in_octave_3} {E_in_octave_4_|_B_in_octave_3_|_A_in_octave_3_|_F_in_octave_3} {E_in_octave_4_|_B_in_octave_3_|_A_in_octave_3_|_F_in_octave_3} {E_in_octave_4_|_B_in_octave_3_|_A_in_octave_3_|_F_in_octave_3} {E-flat_in_octave_4_|_B_in_octave_3_|_G-sharp_in_octave_3_|_F_in_octave_3} {E-flat_in_octave_4_|_B_in_octave_3_|_G-sharp_in_octave_3_|_F_in_octave_3} {E-flat_in_octave_4_|_B_in_octave_3_|_G-sharp_in_octave_3_|_F_in_octave_3} {A_in_octave_3_|_E_in_octave_3_|_D_in_octave_4_|_B-flat_in_octave_3} {A_in_octave_3_|_E_in_octave_3_|_D_in_octave_4_|_B-flat_in_octave_3} {D_in_octave_4_|_B_in_octave_3_|_G_in_octave_4_|_F_in_octave_3} {D_in_octave_4_|_B_in_octave_3_|_G_in_octave_4_|_F_in_octave_3} {E_in_octave_4_|_B_in_octave_3_|_A_in_octave_3_|_F_in_octave_3} {E_in_octave_4_|_B_in_octave_3_|_A_in_octave_3_|_F_in_octave_3}\n",
      "{G-sharp_in_octave_3_|_B_in_octave_4_|_F-sharp_in_octave_3_|_E_in_octave_4_|_C_in_octave_4} {G-sharp_in_octave_3_|_B_in_octave_4_|_F-sharp_in_octave_3_|_E_in_octave_4_|_C_in_octave_4} {A_in_octave_3_|_E_in_octave_3_|_D_in_octave_4_|_B-flat_in_octave_3} {F_in_octave_4_|_D_in_octave_4_|_C_in_octave_4_|_G-sharp_in_octave_3} {F_in_octave_4_|_D_in_octave_4_|_C_in_octave_4_|_G-sharp_in_octave_3} {E_in_octave_4_|_C-sharp_in_octave_4_|_C_in_octave_5_|_G_in_octave_3} {A_in_octave_3_|_F-sharp_in_octave_3_|_D_in_octave_4_|_C_in_octave_4} {E_in_octave_4_|_B_in_octave_3_|_A_in_octave_4_|_F_in_octave_3} {C-sharp_in_octave_4_|_B-flat_in_octave_3_|_F-sharp_in_octave_4_|_E_in_octave_3} {G_in_octave_4_|_E-flat_in_octave_4_|_C_in_octave_5_|_A_in_octave_3} {B_in_octave_3_|_G-sharp_in_octave_3_|_E_in_octave_4_|_D_in_octave_4} {F_in_octave_4_|_C-sharp_in_octave_4_|_B-flat_in_octave_4_|_G_in_octave_3} {G-sharp_in_octave_3_|_B_in_octave_4_|_F-sharp_in_octave_3_|_E_in_octave_4_|_C_in_octave_4} {D_in_octave_4_|_B_in_octave_3_|_G_in_octave_4} {E_in_octave_4_|_B_in_octave_3_|_A_in_octave_4_|_F_in_octave_3} {D_in_octave_4_|_B_in_octave_3_|_A_in_octave_4_|_F_in_octave_3} {D_in_octave_4_|_B_in_octave_3_|_A_in_octave_4_|_F_in_octave_3} {E_in_octave_4_|_B_in_octave_3_|_A_in_octave_4_|_F_in_octave_3} {D_in_octave_4_|_B_in_octave_3_|_B-flat_in_octave_4_|_F_in_octave_3} {A_in_octave_3_|_E_in_octave_3_|_D_in_octave_4_|_B-flat_in_octave_3}\n",
      "{G_in_octave_4_|_E_in_octave_3_|_C_in_octave_4_|_B-flat_in_octave_3} {D_in_octave_4_|_B_in_octave_3_|_G_in_octave_4_|_F_in_octave_3} {D_in_octave_4_|_B_in_octave_3_|_G_in_octave_4_|_F_in_octave_3} {D_in_octave_4_|_B_in_octave_3_|_G_in_octave_3_|_F_in_octave_3} {D_in_octave_4_|_B_in_octave_3_|_G_in_octave_3_|_F_in_octave_3} {B_in_octave_4_|_F-sharp_in_octave_3_|_E_in_octave_4_|_C_in_octave_4} {A_in_octave_4_|_E_in_octave_3_|_D_in_octave_4_|_B-flat_in_octave_3} {A_in_octave_4_|_E_in_octave_3_|_D_in_octave_4_|_B-flat_in_octave_3} {G_in_octave_4_|_D_in_octave_4_|_C_in_octave_4_|_G-sharp_in_octave_3} {F_in_octave_4_|_C-sharp_in_octave_4_|_A_in_octave_4_|_G_in_octave_3} {A_in_octave_4_|_F-sharp_in_octave_3_|_F_in_octave_4_|_C_in_octave_4} {E_in_octave_4_|_B_in_octave_3_|_A_in_octave_4_|_F_in_octave_3} {E-flat_in_octave_4_|_B-flat_in_octave_3_|_G-sharp_in_octave_4_|_E_in_octave_3} {G_in_octave_4_|_E-flat_in_octave_4_|_B_in_octave_3_|_A_in_octave_3} {C_in_octave_4_|_G-sharp_in_octave_3_|_F_in_octave_4_|_D_in_octave_4} {E_in_octave_4_|_C-sharp_in_octave_4_|_A_in_octave_4_|_G_in_octave_3} {F_in_octave_4_|_C-sharp_in_octave_4_|_B_in_octave_3_|_G_in_octave_3} {A_in_octave_3_|_F-sharp_in_octave_3_|_D_in_octave_4_|_C_in_octave_4} {F-sharp_in_octave_4_|_E-flat_in_octave_4_|_C_in_octave_5_|_A_in_octave_3} {B_in_octave_3_|_G-sharp_in_octave_3_|_F-sharp_in_octave_4_|_D_in_octave_4}\n",
      "{E_in_octave_4_|_C-sharp_in_octave_4_|_B-flat_in_octave_4_|_G_in_octave_3} {G-sharp_in_octave_3_|_B_in_octave_3_|_F-sharp_in_octave_3_|_E_in_octave_4_|_C_in_octave_4} {D_in_octave_4_|_B_in_octave_3_|_G_in_octave_4} {A_in_octave_4_|_F_in_octave_3_|_E_in_octave_4_|_C_in_octave_4} {D_in_octave_4_|_B_in_octave_3_|_G_in_octave_3_|_F_in_octave_3} {E-flat_in_octave_4_|_B_in_octave_3_|_G-sharp_in_octave_3_|_F_in_octave_3} {G_in_octave_4_|_E_in_octave_3_|_C_in_octave_4_|_A_in_octave_3} {E-flat_in_octave_4_|_B_in_octave_3_|_G-sharp_in_octave_3_|_F_in_octave_3} {G_in_octave_4_|_E_in_octave_3_|_C_in_octave_4_|_B-flat_in_octave_3} {E_in_octave_4_|_B_in_octave_3_|_A_in_octave_3_|_F_in_octave_3} {E_in_octave_4_|_B_in_octave_3_|_A_in_octave_4_|_F_in_octave_3} {G-sharp_in_octave_3_|_B_in_octave_4_|_F-sharp_in_octave_3_|_E_in_octave_4_|_C_in_octave_4} {E-flat_in_octave_4_|_B_in_octave_3_|_G-sharp_in_octave_4_|_F_in_octave_3} {A_in_octave_3_|_E_in_octave_3_|_D_in_octave_4_|_B-flat_in_octave_3} {G_in_octave_4_|_E_in_octave_3_|_C_in_octave_4_|_B-flat_in_octave_3} {G_in_octave_4_|_E_in_octave_3_|_C_in_octave_4_|_B-flat_in_octave_3} {D_in_octave_4_|_B_in_octave_3_|_G_in_octave_3_|_F_in_octave_3} {E_in_octave_4_|_B_in_octave_3_|_A_in_octave_4_|_F_in_octave_3} {A_in_octave_4_|_F-sharp_in_octave_3_|_D_in_octave_4_|_C_in_octave_4} {D_in_octave_4_|_B_in_octave_3_|_G_in_octave_4_|_F_in_octave_3}\n",
      "{B_in_octave_3_|_F-sharp_in_octave_3_|_E_in_octave_4_|_C_in_octave_4} {G_in_octave_4_|_E_in_octave_3_|_D_in_octave_4_|_B-flat_in_octave_3} {G_in_octave_4_|_E_in_octave_3_|_D_in_octave_4_|_B-flat_in_octave_3} {G_in_octave_4_|_E_in_octave_3_|_D_in_octave_4_|_B-flat_in_octave_3} {G_in_octave_4_|_D_in_octave_4_|_C_in_octave_4_|_G-sharp_in_octave_3} {G_in_octave_4_|_D_in_octave_4_|_C_in_octave_4_|_G-sharp_in_octave_3} {F_in_octave_4_|_C-sharp_in_octave_4_|_B-flat_in_octave_4_|_G_in_octave_3} {C_in_octave_5_|_G_in_octave_3_|_F_in_octave_4_|_C-sharp_in_octave_4} {G-sharp_in_octave_3_|_B_in_octave_3_|_F-sharp_in_octave_3_|_E_in_octave_4_|_C_in_octave_4} {D_in_octave_4_|_B_in_octave_3_|_A_in_octave_4_|_F_in_octave_3} {E-flat_in_octave_4_|_B-flat_in_octave_3_|_G-sharp_in_octave_4_|_E_in_octave_3} {G_in_octave_4_|_E-flat_in_octave_4_|_C_in_octave_5_|_A_in_octave_3} {C-sharp_in_octave_4_|_G-sharp_in_octave_3_|_F-sharp_in_octave_4_|_D_in_octave_4} {F_in_octave_4_|_D_in_octave_4_|_C_in_octave_4_|_A_in_octave_3} {B-flat_in_octave_4_|_G_in_octave_3_|_F_in_octave_4_|_D_in_octave_4} {E-flat_in_octave_4_|_C_in_octave_4_|_B-flat_in_octave_4_|_G_in_octave_3} {D_in_octave_4_|_B_in_octave_3_|_G_in_octave_3_|_F_in_octave_3} {E_in_octave_4_|_B_in_octave_3_|_A_in_octave_4_|_F_in_octave_3} {E_in_octave_4_|_B_in_octave_3_|_A_in_octave_4_|_F_in_octave_3} {D_in_octave_4_|_B_in_octave_3_|_A_in_octave_4_|_F_in_octave_3}\n",
      "The first 5 lines in test.chord:\n",
      "F3 B3 B3 B3 B3 B3 B3 B3 F3 F3 F3 E E E B B G4 G4 F3 F3\n",
      "C4 C4 B D4 D4 C#4 D4 F3 C#4 A3 E4 G3 C4 G4 F3 B3 B3 F3 B3 B\n",
      "C4 G4 G4 G3 G3 C4 B B C4 F4 F#3 F3 E E D4 A4 G3 D4 F#4 G#3\n",
      "C#4 C4 G4 F3 G3 E A3 E C4 F3 F3 C4 E B C4 C4 G3 F3 D4 G4\n",
      "C4 E3 E3 E3 C4 C4 G3 F4 C4 B3 E A3 D4 D4 G3 C4 G3 F3 F3 B3\n"
     ]
    }
   ],
   "source": [
    "file_path = \"music-data/test.node\"\n",
    "num = 5\n",
    "print (\"The first\",num,\"lines in test.node:\")\n",
    "PrintNumLines(file_path,num)\n",
    "\n",
    "file_path = \"music-data/test.chord\"\n",
    "num = 5\n",
    "print (\"The first\",num,\"lines in test.chord:\")\n",
    "PrintNumLines(file_path,num)"
   ]
  },
  {
   "cell_type": "code",
   "execution_count": 35,
   "metadata": {},
   "outputs": [
    {
     "name": "stdout",
     "output_type": "stream",
     "text": [
      "Total train chord: 12103\n",
      "Total train node: 12103\n",
      "Total dev chord: 813\n",
      "Total dev node: 813\n",
      "Total test chord: 2581\n",
      "Total test node: 2581\n"
     ]
    }
   ],
   "source": [
    "print (\"Total train chord:\",len(open(\"music-data/train.chord\",'r').readlines()))\n",
    "print (\"Total train node:\",len(open(\"music-data/train.node\",'r').readlines()))\n",
    "print (\"Total dev chord:\",len(open(\"music-data/dev.chord\",'r').readlines()))\n",
    "print (\"Total dev node:\",len(open(\"music-data/dev.node\",'r').readlines()))\n",
    "print (\"Total test chord:\",len(open(\"music-data/test.chord\",'r').readlines()))\n",
    "print (\"Total test node:\",len(open(\"music-data/test.node\",'r').readlines()))"
   ]
  },
  {
   "cell_type": "markdown",
   "metadata": {},
   "source": [
    "## 1.4 Build the Vocabulary of Jazz Songs\n",
    "\n",
    "In this part, we will calculate all the chords and nodes in the input jazz songs and save them as two vocabularies."
   ]
  },
  {
   "cell_type": "markdown",
   "metadata": {},
   "source": [
    "### 1.4.1 Generate The Chord Vocabulary"
   ]
  },
  {
   "cell_type": "code",
   "execution_count": 68,
   "metadata": {},
   "outputs": [],
   "source": [
    "vocab = set()\n",
    "with open(\"music-data/train.chord\", 'r') as f:\n",
    "    read_data = f.readlines()\n",
    "for lines in read_data:\n",
    "    for chord in lines.split(\" \"):\n",
    "        if chord:\n",
    "            vocab.add(chord)"
   ]
  },
  {
   "cell_type": "code",
   "execution_count": 69,
   "metadata": {},
   "outputs": [],
   "source": [
    "with open(\"music-data/dev.chord\", 'r') as f:\n",
    "    read_data = f.readlines()\n",
    "for lines in read_data:\n",
    "    for chord in lines.split(\" \"):\n",
    "        if chord:\n",
    "            vocab.add(chord)"
   ]
  },
  {
   "cell_type": "code",
   "execution_count": 70,
   "metadata": {},
   "outputs": [],
   "source": [
    "with open(\"music-data/test.chord\", 'r') as f:\n",
    "    read_data = f.readlines()\n",
    "for lines in read_data:\n",
    "    for chord in lines.split(\" \"):\n",
    "        if chord:\n",
    "            vocab.add(chord)"
   ]
  },
  {
   "cell_type": "code",
   "execution_count": 71,
   "metadata": {},
   "outputs": [
    {
     "name": "stdout",
     "output_type": "stream",
     "text": [
      "The chord vocabulary of 800 Jazz songs:\n",
      "{'C#5', 'E7', 'G#1', 'F7', 'F#4', 'E', 'D1', 'C#7', 'F9', 'D3', 'F2', 'G6', 'B2', '\\n', 'F#2', 'G#3', 'A5', 'E2', 'C6', 'F', 'D4', 'C#1', 'B', 'G5', 'G7', 'A7', 'G#7', 'C1', 'E4', 'D5', 'G2', 'A0', 'G#5', 'C5', 'A3', 'C4', 'F#3', 'G#4', 'D2', 'F3', 'B5', 'C7', 'F#7', 'B1', 'F4', 'C#4', 'E5', 'F#5', 'A6', 'F#6', 'F1', 'G0', 'C#2', 'A4', 'F5', 'B4', 'E3', 'F8', 'C#6', 'F#1', 'B0', 'B3', 'F6', 'A1', 'G#6', 'D7', 'E6', 'C#', 'G4', 'E1', 'G1', 'D6', 'C3', 'G3', 'C2', 'C#3', 'B6', 'C8', 'A2', 'G#2'}\n"
     ]
    }
   ],
   "source": [
    "with open(\"music-data/vocab.chord\", 'w') as f:\n",
    "    for chord in vocab:\n",
    "        if chord:\n",
    "            f.write(chord+'\\n')\n",
    "print (\"The chord vocabulary of 800 Jazz songs:\")\n",
    "print (vocab)"
   ]
  },
  {
   "cell_type": "code",
   "execution_count": 72,
   "metadata": {},
   "outputs": [
    {
     "name": "stdout",
     "output_type": "stream",
     "text": [
      "Remove 1 duplicate words!\n"
     ]
    }
   ],
   "source": [
    "RemoveDuplicateVocab(\"music-data/vocab.chord\")"
   ]
  },
  {
   "cell_type": "markdown",
   "metadata": {},
   "source": [
    "### 1.4.2 Generate The Node Vocabulary"
   ]
  },
  {
   "cell_type": "code",
   "execution_count": 73,
   "metadata": {},
   "outputs": [],
   "source": [
    "vocab = set()\n",
    "with open(\"music-data/train.node\", 'r') as f:\n",
    "    read_data = f.readlines()\n",
    "for lines in read_data:\n",
    "    for node in lines.split(\" \"):\n",
    "        if node:\n",
    "            vocab.add(node)"
   ]
  },
  {
   "cell_type": "code",
   "execution_count": 74,
   "metadata": {},
   "outputs": [],
   "source": [
    "with open(\"music-data/dev.node\", 'r') as f:\n",
    "    read_data = f.readlines()\n",
    "for lines in read_data:\n",
    "    for node in lines.split(\" \"):\n",
    "        if node:\n",
    "            vocab.add(node)"
   ]
  },
  {
   "cell_type": "code",
   "execution_count": 75,
   "metadata": {},
   "outputs": [],
   "source": [
    "with open(\"music-data/test.node\", 'r') as f:\n",
    "    read_data = f.readlines()\n",
    "for lines in read_data:\n",
    "    for node in lines.split(\" \"):\n",
    "        if node:\n",
    "            vocab.add(node)"
   ]
  },
  {
   "cell_type": "code",
   "execution_count": 76,
   "metadata": {},
   "outputs": [
    {
     "name": "stdout",
     "output_type": "stream",
     "text": [
      "The first 10 node vocabulary of 800 Jazz songs:\n",
      "{G_in_octave_6_|_A_in_octave_3_|_G_in_octave_5}\n",
      "{G-sharp_in_octave_3_|_C_in_octave_4}\n",
      "{E-flat_in_octave_3_|_E_in_octave_4_|_B-flat_in_octave_5}\n",
      "{A_in_octave_3_|_F-sharp_in_octave_4_|_C_in_octave_4_|_D_in_octave_2_|_D_in_octave_3_|_E_in_octave_4_|_A_in_octave_4_|_A_in_octave_2}\n",
      "{G-sharp_in_octave_3_|_F_in_octave_4_|_C_in_octave_6_|_C_in_octave_4_|_F_in_octave_5}\n",
      "{G_in_octave_3_|_C_in_octave_4_|_A_in_octave_4_|_E_in_octave_4}\n",
      "{E-flat_in_octave_4_|_A_in_octave_3_|_E-flat_in_octave_6}\n",
      "{C_in_octave_5_|_D_in_octave_5_|_F_in_octave_5}\n",
      "{F-sharp_in_octave_3_|_E-flat_in_octave_2}\n",
      "{G-sharp_in_octave_3_|_G-sharp_in_octave_6_|_C_in_octave_4_|_G-sharp_in_octave_5}\n"
     ]
    }
   ],
   "source": [
    "with open(\"music-data/vocab.node\", 'w') as f:\n",
    "    for chord in vocab:\n",
    "        if chord:\n",
    "            f.write(chord+'\\n')\n",
    "file_path = \"music-data/vocab.node\"\n",
    "num = 10\n",
    "print (\"The first\",num,\"node vocabulary of 800 Jazz songs:\")\n",
    "PrintNumLines(file_path,num)"
   ]
  },
  {
   "cell_type": "code",
   "execution_count": 77,
   "metadata": {},
   "outputs": [
    {
     "name": "stdout",
     "output_type": "stream",
     "text": [
      "Remove 1 duplicate words!\n"
     ]
    }
   ],
   "source": [
    "RemoveDuplicateVocab(\"music-data/vocab.node\")"
   ]
  },
  {
   "cell_type": "markdown",
   "metadata": {},
   "source": [
    "## 1.5 Delete Empty Lines in Each File\n",
    "\n",
    "Since we will use TensorFlow Neural Machine Translation(NMT) as our model, the input file should remove all the empty lines for the machine to recognize. Thus we use **RemoveEmptyLine** function to delete all the empty lines in each filw."
   ]
  },
  {
   "cell_type": "code",
   "execution_count": 78,
   "metadata": {},
   "outputs": [
    {
     "name": "stdout",
     "output_type": "stream",
     "text": [
      "Remove 72 empty lines!\n"
     ]
    }
   ],
   "source": [
    "file_path = \"music-data/train.chord\"\n",
    "RemoveEmptyLine(file_path)"
   ]
  },
  {
   "cell_type": "code",
   "execution_count": 79,
   "metadata": {},
   "outputs": [
    {
     "name": "stdout",
     "output_type": "stream",
     "text": [
      "Remove 72 empty lines!\n"
     ]
    }
   ],
   "source": [
    "file_path = \"music-data/train.node\"\n",
    "RemoveEmptyLine(file_path)"
   ]
  },
  {
   "cell_type": "code",
   "execution_count": 80,
   "metadata": {},
   "outputs": [
    {
     "name": "stdout",
     "output_type": "stream",
     "text": [
      "Remove 5 empty lines!\n"
     ]
    }
   ],
   "source": [
    "file_path = \"music-data/dev.chord\"\n",
    "RemoveEmptyLine(file_path)"
   ]
  },
  {
   "cell_type": "code",
   "execution_count": 81,
   "metadata": {},
   "outputs": [
    {
     "name": "stdout",
     "output_type": "stream",
     "text": [
      "Remove 5 empty lines!\n"
     ]
    }
   ],
   "source": [
    "file_path = \"music-data/dev.node\"\n",
    "RemoveEmptyLine(file_path)"
   ]
  },
  {
   "cell_type": "code",
   "execution_count": 82,
   "metadata": {},
   "outputs": [
    {
     "name": "stdout",
     "output_type": "stream",
     "text": [
      "Remove 22 empty lines!\n"
     ]
    }
   ],
   "source": [
    "file_path = \"music-data/test.chord\"\n",
    "RemoveEmptyLine(file_path)"
   ]
  },
  {
   "cell_type": "code",
   "execution_count": 83,
   "metadata": {},
   "outputs": [
    {
     "name": "stdout",
     "output_type": "stream",
     "text": [
      "Remove 22 empty lines!\n"
     ]
    }
   ],
   "source": [
    "file_path = \"music-data/test.node\"\n",
    "RemoveEmptyLine(file_path)"
   ]
  },
  {
   "cell_type": "code",
   "execution_count": 84,
   "metadata": {},
   "outputs": [
    {
     "name": "stdout",
     "output_type": "stream",
     "text": [
      "Remove 1 empty lines!\n"
     ]
    }
   ],
   "source": [
    "file_path = \"music-data/vocab.chord\"\n",
    "RemoveEmptyLine(file_path)"
   ]
  },
  {
   "cell_type": "code",
   "execution_count": 85,
   "metadata": {},
   "outputs": [
    {
     "name": "stdout",
     "output_type": "stream",
     "text": [
      "Remove 1 empty lines!\n"
     ]
    }
   ],
   "source": [
    "file_path = \"music-data/vocab.node\"\n",
    "RemoveEmptyLine(file_path)"
   ]
  },
  {
   "cell_type": "markdown",
   "metadata": {},
   "source": [
    "Now we've finished the music data processing part and get 8 files:\n",
    "\n",
    "![](img/preprocessing.png)"
   ]
  },
  {
   "cell_type": "markdown",
   "metadata": {},
   "source": [
    "# Part 2. Train Neural Machine Translation (seq2seq)\n",
    "\n",
    "In this part, we will use the [Tensorflow Neural Machine Translation (seq2seq)](https://github.com/tensorflow/nmt)."
   ]
  },
  {
   "cell_type": "markdown",
   "metadata": {},
   "source": [
    "## 2.1 Basic Information About NMT\n",
    "***补充NMT信息***"
   ]
  },
  {
   "cell_type": "markdown",
   "metadata": {},
   "source": [
    "## 2.2 Prepare Work\n",
    "\n",
    "1. First, we need to download the source code from github and put the files in our project folder.\n",
    "\n",
    "2. Second, we should build a new folder names \"tmp\" in nmp-model folder. \n",
    "\n",
    "3. Next, build a new folder names \"train-data\" and copy the 8 files generated in part1.5 to this new folder.\n",
    "\n",
    "![](img/traindata.png)"
   ]
  },
  {
   "cell_type": "markdown",
   "metadata": {},
   "source": [
    "## 2.3 Train NMT\n",
    "\n",
    "***补充参数选择信息***\n",
    "\n",
    "In Ubuntu 16.04, use this command in terminal to train the nmt model:\n",
    "\n",
    "***python -m nmt.nmt     --src=chord --tgt=node     --vocab_prefix=nmt/tmp/train-data/vocab      --train_prefix=nmt/tmp/train-data/train     --dev_prefix=nmt/tmp/train-data/dev      --test_prefix=nmt/tmp/train-data/test     --out_dir=nmt/tmp/model-data     --num_train_steps=1200     --steps_per_stats=100     --num_layers=2     --num_units=128     --dropout=0.2     --metrics=bleu***\n",
    "\n",
    "The training process is in tensorflow-gpu(V1.7) environment, thus the training speed is very fast. For more information about the training envoironment information, please read the [README](https://github.com/huuuuusy/Music-Style-Transformation/blob/master/Readme) page. \n",
    "\n",
    "![](img/train01.png)\n",
    "\n",
    "We can clearly see that the command transfer some parameters to the model at first.\n",
    "\n",
    "![](img/train02.png)\n",
    "\n",
    "Since my GPU is GTX1070(8G), terminal shows that find a GPU(device 0) to process the data.\n",
    "\n",
    "![](img/train03.png)\n",
    "\n",
    "At end, terminal shows the successful information."
   ]
  },
  {
   "cell_type": "markdown",
   "metadata": {},
   "source": [
    "## 2.4 Check Model\n",
    "\n",
    "Install the **tree** package to print the folder in model-data folder with tree structure.\n",
    "\n",
    "![](img/modeltree.png)\n",
    "\n",
    "This folder saves the model which can be reuse to transfer a no-jazz song to jazz-style. The specific information shows in transferMusic.ipynb."
   ]
  }
 ],
 "metadata": {
  "kernelspec": {
   "display_name": "Python 3",
   "language": "python",
   "name": "python3"
  },
  "language_info": {
   "codemirror_mode": {
    "name": "ipython",
    "version": 3
   },
   "file_extension": ".py",
   "mimetype": "text/x-python",
   "name": "python",
   "nbconvert_exporter": "python",
   "pygments_lexer": "ipython3",
   "version": "3.6.4"
  }
 },
 "nbformat": 4,
 "nbformat_minor": 2
}
