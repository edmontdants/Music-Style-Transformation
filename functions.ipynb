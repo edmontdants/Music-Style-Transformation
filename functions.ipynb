{
 "cells": [
  {
   "cell_type": "markdown",
   "metadata": {},
   "source": [
    "This part will introduct the def functions we used. We will use some sprcific example for clear explaination."
   ]
  },
  {
   "cell_type": "code",
   "execution_count": 4,
   "metadata": {},
   "outputs": [],
   "source": [
    "# Import the necessary packages\n",
    "import music21\n",
    "from music21 import  *\n",
    "import shutil\n",
    "from collections import Counter, defaultdict\n",
    "from sklearn.cluster import KMeans\n",
    "import pandas as pd\n",
    "import numpy as np\n",
    "import sys, re, itertools, random, os\n",
    "from functions import *"
   ]
  },
  {
   "cell_type": "markdown",
   "metadata": {},
   "source": [
    "## ATTENTION\n",
    "***We will show how to use the functions below by using music Billy-Boy.mid in function-example folder as an example. However, if you want to try it by yourself, you should delete the original files(such as .txt,.chord and .node files) except the .mid file, otherwise the new information will be written in the original files repeatly.***"
   ]
  },
  {
   "cell_type": "markdown",
   "metadata": {},
   "source": [
    "### Function 1\n",
    "**TransferMidToChordTxt** is used to transfer the input file (.mid music) to .txt format with the track information."
   ]
  },
  {
   "cell_type": "code",
   "execution_count": 43,
   "metadata": {},
   "outputs": [],
   "source": [
    "def TransferMidToChordTxt(file_path):\n",
    "    try:\n",
    "        components = readMidiFile(file_path=file_path)\n",
    "        startPiano = True \n",
    "        printRatio = True\n",
    "        printHighest = True\n",
    "        printColumns = True\n",
    "        output = \"\"\n",
    "        notes = \"\"\n",
    "        chords = \"\"\n",
    "        for component in components:\n",
    "            if startPiano and type(component) is music21.chord.Chord:\n",
    "                tmp = component.fullName + \",\" + component.pitchedCommonName + \",\" + str(component.quarterLength) + \",\" + str(\n",
    "                    component.offset)\n",
    "                output += tmp + \"\\n\"\n",
    "                print(tmp)\n",
    "            elif type(component) is music21.meter.TimeSignature and printRatio:\n",
    "                tmp = str(component.ratioString)\n",
    "                output += tmp + \"\\n\"\n",
    "                print(tmp)\n",
    "                printRatio = False\n",
    "            elif type(component) is music21.stream.Score and printHighest:\n",
    "                tmp = component.highestTime\n",
    "                output += str(tmp) + \"\\n\"\n",
    "                print(tmp)\n",
    "                printHighest = False\n",
    "            elif not printHighest and not printRatio and printColumns:\n",
    "                tmp = \"FullName,CommonName,Len,Offset\"\n",
    "                output += tmp + \"\\n\"\n",
    "                print(tmp)\n",
    "                printColumns = False\n",
    "        with open((file_path.split(\".mid\")[0] + \"_chord.txt\"), 'w') as f:\n",
    "            f.write(output)\n",
    "    except:\n",
    "        pass"
   ]
  },
  {
   "cell_type": "code",
   "execution_count": 45,
   "metadata": {},
   "outputs": [],
   "source": [
    "path = \"function-example/Billy-Boy.mid\"\n",
    "TransferMidToChordTxt(path)"
   ]
  },
  {
   "cell_type": "markdown",
   "metadata": {},
   "source": [
    "### Function 2\n",
    "**ExtractNodeAndChord** is used to extract the chord and node information from the input file (.txt file with track information)."
   ]
  },
  {
   "cell_type": "code",
   "execution_count": 30,
   "metadata": {},
   "outputs": [],
   "source": [
    "def ExtractNodeAndChord(file_path, split_length,out_node_path,out_chord_path):\n",
    "    read_data = None\n",
    "    full_name = \"\"\n",
    "    common_name = \"\"\n",
    "    count_length = 0\n",
    "    with open(file_path, 'r') as f:\n",
    "        read_data = f.readlines()\n",
    "    for line in read_data[1:]:\n",
    "        if line == \"\" or \"{\" not in line:\n",
    "            continue\n",
    "        count_length += 1\n",
    "        sl = line.split(\",\")\n",
    "        i  = sl[0].index(\"{\")\n",
    "        j  = sl[0].index(\"}\")\n",
    "        full_name += sl[0][i:j+1].replace(\" \", \"_\") + \" \"\n",
    "        temp = sl[1].split(\" \")[0] + \" \"\n",
    "        common_name += sl[1].split(\" \")[0].split(\"-\")[0] + \" \"\n",
    "        if split_length is not None and count_length == split_length:\n",
    "            full_name += \"\\n\"\n",
    "            common_name += \"\\n\"\n",
    "            count_length = 0\n",
    "\n",
    "    if full_name.endswith(\"\\n\"):\n",
    "        full_name = full_name[:-1]\n",
    "    if common_name.endswith(\"\\n\"):\n",
    "        common_name = common_name[:-1]\n",
    "    print (\"--------This is tpye.node--------\")\n",
    "    print (full_name)\n",
    "    print (\"\\n\")\n",
    "    print (\"--------This is type.chord--------\")\n",
    "    print (common_name)\n",
    "    with open(out_node_path, 'a') as f:\n",
    "        f.write(full_name + '\\n')\n",
    "    with open(out_chord_path, 'a') as f:\n",
    "        f.write(common_name + '\\n')"
   ]
  },
  {
   "cell_type": "code",
   "execution_count": 31,
   "metadata": {},
   "outputs": [
    {
     "name": "stdout",
     "output_type": "stream",
     "text": [
      "--------This is tpye.node--------\n",
      "{E-flat_in_octave_3_|_C-sharp_in_octave_3} {F-sharp_in_octave_2_|_E-flat_in_octave_3} {F-sharp_in_octave_2_|_C-sharp_in_octave_2_|_E-flat_in_octave_3} {F-sharp_in_octave_2_|_E-flat_in_octave_3} {F-sharp_in_octave_2_|_C-sharp_in_octave_2_|_E-flat_in_octave_3} {F-sharp_in_octave_2_|_E-flat_in_octave_3} {F-sharp_in_octave_2_|_C-sharp_in_octave_2_|_E-flat_in_octave_3} {F-sharp_in_octave_2_|_E-flat_in_octave_3} {F-sharp_in_octave_2_|_C-sharp_in_octave_2_|_E-flat_in_octave_3} {F-sharp_in_octave_2_|_E-flat_in_octave_3} {F-sharp_in_octave_2_|_C-sharp_in_octave_2_|_E-flat_in_octave_3} {F-sharp_in_octave_2_|_E-flat_in_octave_3} {F-sharp_in_octave_2_|_C-sharp_in_octave_2_|_E-flat_in_octave_3} {F-sharp_in_octave_2_|_E-flat_in_octave_3} {F-sharp_in_octave_2_|_C-sharp_in_octave_2_|_E-flat_in_octave_3} {F-sharp_in_octave_2_|_E-flat_in_octave_3} {F-sharp_in_octave_2_|_C-sharp_in_octave_2_|_E-flat_in_octave_3} {F-sharp_in_octave_2_|_E-flat_in_octave_3} {F-sharp_in_octave_2_|_C-sharp_in_octave_2_|_E-flat_in_octave_3} {F-sharp_in_octave_2_|_E-flat_in_octave_3} \n",
      "{F-sharp_in_octave_2_|_C-sharp_in_octave_2_|_E-flat_in_octave_3} {F-sharp_in_octave_2_|_E-flat_in_octave_3} {F-sharp_in_octave_2_|_C-sharp_in_octave_2_|_E-flat_in_octave_3} {F-sharp_in_octave_2_|_E-flat_in_octave_3} {F-sharp_in_octave_2_|_C-sharp_in_octave_2_|_E-flat_in_octave_3} {F-sharp_in_octave_2_|_E-flat_in_octave_3} {F-sharp_in_octave_2_|_C-sharp_in_octave_2_|_E-flat_in_octave_3} {F-sharp_in_octave_2_|_E-flat_in_octave_3} {F-sharp_in_octave_2_|_C-sharp_in_octave_2_|_E-flat_in_octave_3} {F-sharp_in_octave_2_|_E-flat_in_octave_3} {F-sharp_in_octave_2_|_C-sharp_in_octave_2_|_E-flat_in_octave_3} {F-sharp_in_octave_2_|_E-flat_in_octave_3} {F-sharp_in_octave_2_|_E-flat_in_octave_3} {D_in_octave_2_|_E-flat_in_octave_3} {F-sharp_in_octave_2_|_E-flat_in_octave_3} {F-sharp_in_octave_2_|_C-sharp_in_octave_2_|_E-flat_in_octave_3} {F-sharp_in_octave_2_|_E-flat_in_octave_3} {F-sharp_in_octave_2_|_C-sharp_in_octave_2_|_E-flat_in_octave_3} {F-sharp_in_octave_2_|_E-flat_in_octave_3} {F-sharp_in_octave_2_|_C-sharp_in_octave_2_|_E-flat_in_octave_3} \n",
      "{F-sharp_in_octave_2_|_E-flat_in_octave_3} {F-sharp_in_octave_2_|_C-sharp_in_octave_2_|_E-flat_in_octave_3} {F-sharp_in_octave_2_|_E-flat_in_octave_3} {F-sharp_in_octave_2_|_C-sharp_in_octave_2_|_E-flat_in_octave_3} {F-sharp_in_octave_2_|_E-flat_in_octave_3} {F-sharp_in_octave_2_|_C-sharp_in_octave_2_|_E-flat_in_octave_3} {F-sharp_in_octave_2_|_E-flat_in_octave_3} {F-sharp_in_octave_2_|_C-sharp_in_octave_2_|_E-flat_in_octave_3} {F-sharp_in_octave_2_|_E-flat_in_octave_3} {F-sharp_in_octave_2_|_C-sharp_in_octave_2_|_E-flat_in_octave_3} {F-sharp_in_octave_2_|_E-flat_in_octave_3} {F-sharp_in_octave_2_|_C-sharp_in_octave_2_|_E-flat_in_octave_3} {F-sharp_in_octave_2_|_E-flat_in_octave_3} {F-sharp_in_octave_2_|_C-sharp_in_octave_2_|_E-flat_in_octave_3} {F-sharp_in_octave_2_|_E-flat_in_octave_3} {F-sharp_in_octave_2_|_C-sharp_in_octave_2_|_E-flat_in_octave_3} {F-sharp_in_octave_2_|_E-flat_in_octave_3} {F-sharp_in_octave_2_|_C-sharp_in_octave_2_|_E-flat_in_octave_3} {F-sharp_in_octave_2_|_E-flat_in_octave_3} {F-sharp_in_octave_2_|_C-sharp_in_octave_2_|_E-flat_in_octave_3} \n",
      "{F-sharp_in_octave_2_|_E-flat_in_octave_3} {F-sharp_in_octave_2_|_C-sharp_in_octave_2_|_E-flat_in_octave_3} {F-sharp_in_octave_2_|_E-flat_in_octave_3} {F-sharp_in_octave_2_|_C-sharp_in_octave_2_|_E-flat_in_octave_3} {F-sharp_in_octave_2_|_E-flat_in_octave_3} {D_in_octave_2_|_F-sharp_in_octave_2_|_C-sharp_in_octave_2_|_E-flat_in_octave_3} {E-flat_in_octave_3_|_C-sharp_in_octave_3} {F-sharp_in_octave_2_|_E-flat_in_octave_3} {F-sharp_in_octave_2_|_C-sharp_in_octave_2_|_E-flat_in_octave_3} {F-sharp_in_octave_2_|_E-flat_in_octave_3} {F-sharp_in_octave_2_|_C-sharp_in_octave_2_|_E-flat_in_octave_3} {F-sharp_in_octave_2_|_E-flat_in_octave_3} {F-sharp_in_octave_2_|_C-sharp_in_octave_2_|_E-flat_in_octave_3} {F-sharp_in_octave_2_|_E-flat_in_octave_3} {F-sharp_in_octave_2_|_C-sharp_in_octave_2_|_E-flat_in_octave_3} {F-sharp_in_octave_2_|_E-flat_in_octave_3} {F-sharp_in_octave_2_|_C-sharp_in_octave_2_|_E-flat_in_octave_3} {F-sharp_in_octave_2_|_E-flat_in_octave_3} {F-sharp_in_octave_2_|_C-sharp_in_octave_2_|_E-flat_in_octave_3} {F-sharp_in_octave_2_|_E-flat_in_octave_3} \n",
      "{F-sharp_in_octave_2_|_C-sharp_in_octave_2_|_E-flat_in_octave_3} {F-sharp_in_octave_2_|_E-flat_in_octave_3} {D_in_octave_2_|_F-sharp_in_octave_2_|_C-sharp_in_octave_2_|_E-flat_in_octave_3} {F-sharp_in_octave_2_|_E-flat_in_octave_3} {F-sharp_in_octave_2_|_C-sharp_in_octave_2_|_E-flat_in_octave_3} {F-sharp_in_octave_2_|_E-flat_in_octave_3} {F-sharp_in_octave_2_|_C-sharp_in_octave_2_|_E-flat_in_octave_3} {F-sharp_in_octave_2_|_E-flat_in_octave_3} {F-sharp_in_octave_2_|_C-sharp_in_octave_2_|_E-flat_in_octave_3} {F-sharp_in_octave_2_|_E-flat_in_octave_3} {F-sharp_in_octave_2_|_C-sharp_in_octave_2_|_E-flat_in_octave_3} {F-sharp_in_octave_2_|_E-flat_in_octave_3} {F-sharp_in_octave_2_|_C-sharp_in_octave_2_|_E-flat_in_octave_3} {F-sharp_in_octave_2_|_E-flat_in_octave_3} {F-sharp_in_octave_2_|_C-sharp_in_octave_2_|_E-flat_in_octave_3} {F-sharp_in_octave_2_|_E-flat_in_octave_3} {F-sharp_in_octave_2_|_C-sharp_in_octave_2_|_E-flat_in_octave_3} {F-sharp_in_octave_2_|_E-flat_in_octave_3} {F-sharp_in_octave_2_|_C-sharp_in_octave_2_|_E-flat_in_octave_3} {F-sharp_in_octave_2_|_E-flat_in_octave_3} \n",
      "{F-sharp_in_octave_2_|_C-sharp_in_octave_2_|_E-flat_in_octave_3} {F-sharp_in_octave_2_|_E-flat_in_octave_3} {F-sharp_in_octave_2_|_C-sharp_in_octave_2_|_E-flat_in_octave_3} {F-sharp_in_octave_2_|_E-flat_in_octave_3} {F-sharp_in_octave_2_|_C-sharp_in_octave_2_|_E-flat_in_octave_3} {F-sharp_in_octave_2_|_E-flat_in_octave_3} {F-sharp_in_octave_2_|_C-sharp_in_octave_2_|_E-flat_in_octave_3} {F-sharp_in_octave_2_|_E-flat_in_octave_3} {F-sharp_in_octave_2_|_C-sharp_in_octave_2_|_E-flat_in_octave_3} {F-sharp_in_octave_2_|_E-flat_in_octave_3} {F-sharp_in_octave_2_|_C-sharp_in_octave_2_|_E-flat_in_octave_3} {F-sharp_in_octave_2_|_E-flat_in_octave_3} {F-sharp_in_octave_2_|_C-sharp_in_octave_2_|_E-flat_in_octave_3} {F-sharp_in_octave_2_|_E-flat_in_octave_3} {F-sharp_in_octave_2_|_E-flat_in_octave_3} {D_in_octave_2_|_E-flat_in_octave_3} {F-sharp_in_octave_2_|_E-flat_in_octave_3} {F-sharp_in_octave_2_|_C-sharp_in_octave_2_|_E-flat_in_octave_3} {F-sharp_in_octave_2_|_E-flat_in_octave_3} {F-sharp_in_octave_2_|_C-sharp_in_octave_2_|_E-flat_in_octave_3} \n",
      "{F-sharp_in_octave_2_|_E-flat_in_octave_3} {F-sharp_in_octave_2_|_C-sharp_in_octave_2_|_E-flat_in_octave_3} {F-sharp_in_octave_2_|_E-flat_in_octave_3} {F-sharp_in_octave_2_|_C-sharp_in_octave_2_|_E-flat_in_octave_3} {F-sharp_in_octave_2_|_E-flat_in_octave_3} {F-sharp_in_octave_2_|_C-sharp_in_octave_2_|_E-flat_in_octave_3} {F-sharp_in_octave_2_|_E-flat_in_octave_3} {F-sharp_in_octave_2_|_C-sharp_in_octave_2_|_E-flat_in_octave_3} {F-sharp_in_octave_2_|_E-flat_in_octave_3} {F-sharp_in_octave_2_|_C-sharp_in_octave_2_|_E-flat_in_octave_3} {F-sharp_in_octave_2_|_E-flat_in_octave_3} {F-sharp_in_octave_2_|_C-sharp_in_octave_2_|_E-flat_in_octave_3} {F-sharp_in_octave_2_|_E-flat_in_octave_3} {F-sharp_in_octave_2_|_C-sharp_in_octave_2_|_E-flat_in_octave_3} {F-sharp_in_octave_2_|_E-flat_in_octave_3} {F-sharp_in_octave_2_|_C-sharp_in_octave_2_|_E-flat_in_octave_3} {F-sharp_in_octave_2_|_E-flat_in_octave_3} {F-sharp_in_octave_2_|_C-sharp_in_octave_2_|_E-flat_in_octave_3} {F-sharp_in_octave_2_|_E-flat_in_octave_3} {F-sharp_in_octave_2_|_C-sharp_in_octave_2_|_E-flat_in_octave_3} \n",
      "{F-sharp_in_octave_2_|_E-flat_in_octave_3} {F-sharp_in_octave_2_|_C-sharp_in_octave_2_|_E-flat_in_octave_3} {F-sharp_in_octave_2_|_E-flat_in_octave_3} {F-sharp_in_octave_2_|_C-sharp_in_octave_2_|_E-flat_in_octave_3} {F-sharp_in_octave_2_|_E-flat_in_octave_3} {F-sharp_in_octave_2_|_C-sharp_in_octave_2_|_E-flat_in_octave_3} {F-sharp_in_octave_2_|_E-flat_in_octave_3} {D_in_octave_2_|_F-sharp_in_octave_2_|_C-sharp_in_octave_2_|_E-flat_in_octave_3} {F-sharp_in_octave_2_|_E-flat_in_octave_3} {F-sharp_in_octave_2_|_C-sharp_in_octave_2_|_E-flat_in_octave_3} {F-sharp_in_octave_2_|_E-flat_in_octave_3} {F-sharp_in_octave_2_|_C-sharp_in_octave_2_|_E-flat_in_octave_3} {F-sharp_in_octave_2_|_E-flat_in_octave_3} {F-sharp_in_octave_2_|_C-sharp_in_octave_2_|_E-flat_in_octave_3} {F-sharp_in_octave_2_|_E-flat_in_octave_3} {F-sharp_in_octave_2_|_C-sharp_in_octave_2_|_E-flat_in_octave_3} {F-sharp_in_octave_2_|_E-flat_in_octave_3} {F-sharp_in_octave_2_|_C-sharp_in_octave_2_|_E-flat_in_octave_3} {F-sharp_in_octave_2_|_E-flat_in_octave_3} {F-sharp_in_octave_2_|_C-sharp_in_octave_2_|_E-flat_in_octave_3} \n",
      "{F-sharp_in_octave_2_|_E-flat_in_octave_3} {F-sharp_in_octave_2_|_C-sharp_in_octave_2_|_E-flat_in_octave_3} {F-sharp_in_octave_2_|_E-flat_in_octave_3} {F-sharp_in_octave_2_|_C-sharp_in_octave_2_|_E-flat_in_octave_3} {F-sharp_in_octave_2_|_E-flat_in_octave_3} {F-sharp_in_octave_2_|_C-sharp_in_octave_2_|_E-flat_in_octave_3} {F-sharp_in_octave_2_|_E-flat_in_octave_3} {F-sharp_in_octave_2_|_C-sharp_in_octave_2_|_E-flat_in_octave_3} {F-sharp_in_octave_2_|_E-flat_in_octave_3} {F-sharp_in_octave_2_|_C-sharp_in_octave_2_|_E-flat_in_octave_3} {F-sharp_in_octave_2_|_E-flat_in_octave_3} {F-sharp_in_octave_2_|_C-sharp_in_octave_2_|_E-flat_in_octave_3} {F-sharp_in_octave_2_|_E-flat_in_octave_3} {F-sharp_in_octave_2_|_C-sharp_in_octave_2_|_E-flat_in_octave_3} {F-sharp_in_octave_2_|_E-flat_in_octave_3} {F-sharp_in_octave_2_|_C-sharp_in_octave_2_|_E-flat_in_octave_3} {F-sharp_in_octave_2_|_E-flat_in_octave_3} {F-sharp_in_octave_2_|_C-sharp_in_octave_2_|_E-flat_in_octave_3} {F-sharp_in_octave_2_|_E-flat_in_octave_3} {F-sharp_in_octave_2_|_E-flat_in_octave_3} \n",
      "{D_in_octave_2_|_E-flat_in_octave_3} {E-flat_in_octave_3_|_C-sharp_in_octave_3} {F-sharp_in_octave_2_|_E-flat_in_octave_3} {F-sharp_in_octave_2_|_C-sharp_in_octave_2_|_E-flat_in_octave_3} {F-sharp_in_octave_2_|_E-flat_in_octave_3} {F-sharp_in_octave_2_|_C-sharp_in_octave_2_|_E-flat_in_octave_3} {F-sharp_in_octave_2_|_E-flat_in_octave_3} {F-sharp_in_octave_2_|_C-sharp_in_octave_2_|_E-flat_in_octave_3} {F-sharp_in_octave_2_|_E-flat_in_octave_3} {F-sharp_in_octave_2_|_C-sharp_in_octave_2_|_E-flat_in_octave_3} {F-sharp_in_octave_2_|_E-flat_in_octave_3} {F-sharp_in_octave_2_|_C-sharp_in_octave_2_|_E-flat_in_octave_3} {F-sharp_in_octave_2_|_E-flat_in_octave_3} {F-sharp_in_octave_2_|_C-sharp_in_octave_2_|_E-flat_in_octave_3} {F-sharp_in_octave_2_|_E-flat_in_octave_3} {F-sharp_in_octave_2_|_C-sharp_in_octave_2_|_E-flat_in_octave_3} {F-sharp_in_octave_2_|_E-flat_in_octave_3} {F-sharp_in_octave_2_|_E-flat_in_octave_3} {D_in_octave_2_|_E-flat_in_octave_3} {F-sharp_in_octave_2_|_E-flat_in_octave_3} \n",
      "{F-sharp_in_octave_2_|_C-sharp_in_octave_2_|_E-flat_in_octave_3} {F-sharp_in_octave_2_|_E-flat_in_octave_3} {F-sharp_in_octave_2_|_C-sharp_in_octave_2_|_E-flat_in_octave_3} {F-sharp_in_octave_2_|_E-flat_in_octave_3} {F-sharp_in_octave_2_|_C-sharp_in_octave_2_|_E-flat_in_octave_3} {F-sharp_in_octave_2_|_E-flat_in_octave_3} {F-sharp_in_octave_2_|_C-sharp_in_octave_2_|_E-flat_in_octave_3} {F-sharp_in_octave_2_|_E-flat_in_octave_3} {F-sharp_in_octave_2_|_C-sharp_in_octave_2_|_E-flat_in_octave_3} {F-sharp_in_octave_2_|_E-flat_in_octave_3} {F-sharp_in_octave_2_|_C-sharp_in_octave_2_|_E-flat_in_octave_3} {F-sharp_in_octave_2_|_E-flat_in_octave_3} {F-sharp_in_octave_2_|_C-sharp_in_octave_2_|_E-flat_in_octave_3} {F-sharp_in_octave_2_|_E-flat_in_octave_3} {F-sharp_in_octave_2_|_C-sharp_in_octave_2_|_E-flat_in_octave_3} {F-sharp_in_octave_2_|_E-flat_in_octave_3} {F-sharp_in_octave_2_|_C-sharp_in_octave_2_|_E-flat_in_octave_3} {F-sharp_in_octave_2_|_E-flat_in_octave_3} {F-sharp_in_octave_2_|_C-sharp_in_octave_2_|_E-flat_in_octave_3} {F-sharp_in_octave_2_|_E-flat_in_octave_3} \n",
      "{F-sharp_in_octave_2_|_C-sharp_in_octave_2_|_E-flat_in_octave_3} {F-sharp_in_octave_2_|_E-flat_in_octave_3} {F-sharp_in_octave_2_|_C-sharp_in_octave_2_|_E-flat_in_octave_3} {F-sharp_in_octave_2_|_E-flat_in_octave_3} {F-sharp_in_octave_2_|_C-sharp_in_octave_2_|_E-flat_in_octave_3} {F-sharp_in_octave_2_|_E-flat_in_octave_3} {F-sharp_in_octave_2_|_C-sharp_in_octave_2_|_E-flat_in_octave_3} {F-sharp_in_octave_2_|_E-flat_in_octave_3} {F-sharp_in_octave_2_|_C-sharp_in_octave_2_|_E-flat_in_octave_3} {F-sharp_in_octave_2_|_E-flat_in_octave_3} {D_in_octave_2_|_F-sharp_in_octave_2_|_C-sharp_in_octave_2_|_E-flat_in_octave_3} {F-sharp_in_octave_2_|_E-flat_in_octave_3} {F-sharp_in_octave_2_|_C-sharp_in_octave_2_|_E-flat_in_octave_3} {F-sharp_in_octave_2_|_E-flat_in_octave_3} {F-sharp_in_octave_2_|_C-sharp_in_octave_2_|_E-flat_in_octave_3} {F-sharp_in_octave_2_|_E-flat_in_octave_3} {F-sharp_in_octave_2_|_C-sharp_in_octave_2_|_E-flat_in_octave_3} {F-sharp_in_octave_2_|_E-flat_in_octave_3} {F-sharp_in_octave_2_|_C-sharp_in_octave_2_|_E-flat_in_octave_3} {F-sharp_in_octave_2_|_E-flat_in_octave_3} \n",
      "{F-sharp_in_octave_2_|_C-sharp_in_octave_2_|_E-flat_in_octave_3} {F-sharp_in_octave_2_|_E-flat_in_octave_3} {F-sharp_in_octave_2_|_C-sharp_in_octave_2_|_E-flat_in_octave_3} {F-sharp_in_octave_2_|_E-flat_in_octave_3} {F-sharp_in_octave_2_|_C-sharp_in_octave_2_|_E-flat_in_octave_3} {F-sharp_in_octave_2_|_E-flat_in_octave_3} {F-sharp_in_octave_2_|_C-sharp_in_octave_2_|_E-flat_in_octave_3} {F-sharp_in_octave_2_|_E-flat_in_octave_3} {F-sharp_in_octave_2_|_C-sharp_in_octave_2_|_E-flat_in_octave_3} {F-sharp_in_octave_2_|_E-flat_in_octave_3} {F-sharp_in_octave_2_|_C-sharp_in_octave_2_|_E-flat_in_octave_3} {F-sharp_in_octave_2_|_E-flat_in_octave_3} {F-sharp_in_octave_2_|_C-sharp_in_octave_2_|_E-flat_in_octave_3} {F-sharp_in_octave_2_|_E-flat_in_octave_3} {F-sharp_in_octave_2_|_C-sharp_in_octave_2_|_E-flat_in_octave_3} {F-sharp_in_octave_2_|_E-flat_in_octave_3} {F-sharp_in_octave_2_|_C-sharp_in_octave_2_|_E-flat_in_octave_3} {F-sharp_in_octave_2_|_E-flat_in_octave_3} {F-sharp_in_octave_2_|_C-sharp_in_octave_2_|_E-flat_in_octave_3} {F-sharp_in_octave_2_|_E-flat_in_octave_3} \n",
      "{F-sharp_in_octave_2_|_C-sharp_in_octave_2_|_E-flat_in_octave_3} {F-sharp_in_octave_2_|_E-flat_in_octave_3} {F-sharp_in_octave_2_|_E-flat_in_octave_3} {D_in_octave_2_|_E-flat_in_octave_3} {F-sharp_in_octave_2_|_E-flat_in_octave_3} {F-sharp_in_octave_2_|_C-sharp_in_octave_2_|_E-flat_in_octave_3} {F-sharp_in_octave_2_|_E-flat_in_octave_3} {F-sharp_in_octave_2_|_C-sharp_in_octave_2_|_E-flat_in_octave_3} {F-sharp_in_octave_2_|_E-flat_in_octave_3} {F-sharp_in_octave_2_|_C-sharp_in_octave_2_|_E-flat_in_octave_3} {F-sharp_in_octave_2_|_E-flat_in_octave_3} {F-sharp_in_octave_2_|_C-sharp_in_octave_2_|_E-flat_in_octave_3} {F-sharp_in_octave_2_|_E-flat_in_octave_3} {F-sharp_in_octave_2_|_C-sharp_in_octave_2_|_E-flat_in_octave_3} {F-sharp_in_octave_2_|_E-flat_in_octave_3} {F-sharp_in_octave_2_|_C-sharp_in_octave_2_|_E-flat_in_octave_3} {F-sharp_in_octave_2_|_E-flat_in_octave_3} {F-sharp_in_octave_2_|_C-sharp_in_octave_2_|_E-flat_in_octave_3} {F-sharp_in_octave_2_|_E-flat_in_octave_3} {F-sharp_in_octave_2_|_C-sharp_in_octave_2_|_E-flat_in_octave_3} \n",
      "{F-sharp_in_octave_2_|_E-flat_in_octave_3} {F-sharp_in_octave_2_|_C-sharp_in_octave_2_|_E-flat_in_octave_3} {F-sharp_in_octave_2_|_E-flat_in_octave_3} {F-sharp_in_octave_2_|_C-sharp_in_octave_2_|_E-flat_in_octave_3} {F-sharp_in_octave_2_|_E-flat_in_octave_3} {F-sharp_in_octave_2_|_C-sharp_in_octave_2_|_E-flat_in_octave_3} {F-sharp_in_octave_2_|_E-flat_in_octave_3} {F-sharp_in_octave_2_|_C-sharp_in_octave_2_|_E-flat_in_octave_3} {F-sharp_in_octave_2_|_E-flat_in_octave_3} {F-sharp_in_octave_2_|_C-sharp_in_octave_2_|_E-flat_in_octave_3} {F-sharp_in_octave_2_|_E-flat_in_octave_3} {F-sharp_in_octave_2_|_C-sharp_in_octave_2_|_E-flat_in_octave_3} {F-sharp_in_octave_2_|_E-flat_in_octave_3} {F-sharp_in_octave_2_|_C-sharp_in_octave_2_|_E-flat_in_octave_3} {F-sharp_in_octave_2_|_E-flat_in_octave_3} {F-sharp_in_octave_2_|_E-flat_in_octave_3} {D_in_octave_2_|_E-flat_in_octave_3} {F-sharp_in_octave_2_|_E-flat_in_octave_3} {F-sharp_in_octave_2_|_C-sharp_in_octave_2_|_E-flat_in_octave_3} {F-sharp_in_octave_2_|_E-flat_in_octave_3} \n",
      "{F-sharp_in_octave_2_|_C-sharp_in_octave_2_|_E-flat_in_octave_3} {F-sharp_in_octave_2_|_E-flat_in_octave_3} {F-sharp_in_octave_2_|_C-sharp_in_octave_2_|_E-flat_in_octave_3} {F-sharp_in_octave_2_|_E-flat_in_octave_3} {F-sharp_in_octave_2_|_C-sharp_in_octave_2_|_E-flat_in_octave_3} {F-sharp_in_octave_2_|_E-flat_in_octave_3} {F-sharp_in_octave_2_|_C-sharp_in_octave_2_|_E-flat_in_octave_3} {F-sharp_in_octave_2_|_E-flat_in_octave_3} {F-sharp_in_octave_2_|_C-sharp_in_octave_2_|_E-flat_in_octave_3} {F-sharp_in_octave_2_|_E-flat_in_octave_3} {F-sharp_in_octave_2_|_C-sharp_in_octave_2_|_E-flat_in_octave_3} {F-sharp_in_octave_2_|_E-flat_in_octave_3} {F-sharp_in_octave_2_|_E-flat_in_octave_3} {D_in_octave_2_|_E-flat_in_octave_3} {E-flat_in_octave_3_|_C-sharp_in_octave_3} {F-sharp_in_octave_2_|_E-flat_in_octave_3} {F-sharp_in_octave_2_|_C-sharp_in_octave_2_|_E-flat_in_octave_3} {F-sharp_in_octave_2_|_E-flat_in_octave_3} {F-sharp_in_octave_2_|_C-sharp_in_octave_2_|_E-flat_in_octave_3} {F-sharp_in_octave_2_|_E-flat_in_octave_3} \n",
      "{F-sharp_in_octave_2_|_C-sharp_in_octave_2_|_E-flat_in_octave_3} {F-sharp_in_octave_2_|_E-flat_in_octave_3} {F-sharp_in_octave_2_|_C-sharp_in_octave_2_|_E-flat_in_octave_3} {F-sharp_in_octave_2_|_E-flat_in_octave_3} {F-sharp_in_octave_2_|_C-sharp_in_octave_2_|_E-flat_in_octave_3} {F-sharp_in_octave_2_|_E-flat_in_octave_3} {F-sharp_in_octave_2_|_C-sharp_in_octave_2_|_E-flat_in_octave_3} {F-sharp_in_octave_2_|_E-flat_in_octave_3} {F-sharp_in_octave_2_|_C-sharp_in_octave_2_|_E-flat_in_octave_3} {F-sharp_in_octave_2_|_E-flat_in_octave_3} {F-sharp_in_octave_2_|_C-sharp_in_octave_2_|_E-flat_in_octave_3} {F-sharp_in_octave_2_|_E-flat_in_octave_3} {F-sharp_in_octave_2_|_C-sharp_in_octave_2_|_E-flat_in_octave_3} {F-sharp_in_octave_2_|_E-flat_in_octave_3} {F-sharp_in_octave_2_|_C-sharp_in_octave_2_|_E-flat_in_octave_3} {F-sharp_in_octave_2_|_E-flat_in_octave_3} {F-sharp_in_octave_2_|_C-sharp_in_octave_2_|_E-flat_in_octave_3} {F-sharp_in_octave_2_|_E-flat_in_octave_3} {F-sharp_in_octave_2_|_C-sharp_in_octave_2_|_E-flat_in_octave_3} {F-sharp_in_octave_2_|_E-flat_in_octave_3} \n",
      "{F-sharp_in_octave_2_|_C-sharp_in_octave_2_|_E-flat_in_octave_3} {F-sharp_in_octave_2_|_E-flat_in_octave_3} {F-sharp_in_octave_2_|_C-sharp_in_octave_2_|_E-flat_in_octave_3} {F-sharp_in_octave_2_|_E-flat_in_octave_3} {F-sharp_in_octave_2_|_C-sharp_in_octave_2_|_E-flat_in_octave_3} {F-sharp_in_octave_2_|_E-flat_in_octave_3} {D_in_octave_2_|_F-sharp_in_octave_2_|_C-sharp_in_octave_2_|_E-flat_in_octave_3} {F-sharp_in_octave_2_|_E-flat_in_octave_3} {F-sharp_in_octave_2_|_E-flat_in_octave_3} {D_in_octave_2_|_F-sharp_in_octave_2_|_E-flat_in_octave_3} {D_in_octave_2_|_E-flat_in_octave_3} {B_in_octave_3_|_D_in_octave_4_|_E_in_octave_3_|_G_in_octave_4} {C_in_octave_4_|_E_in_octave_4_|_F_in_octave_3_|_A_in_octave_4} {D_in_octave_4_|_E_in_octave_4_|_G_in_octave_3_|_B_in_octave_4} {C_in_octave_4_|_D_in_octave_4_|_F_in_octave_3_|_A_in_octave_4} {B_in_octave_3_|_D_in_octave_4_|_E_in_octave_3_|_G_in_octave_4} {C_in_octave_4_|_D_in_octave_4_|_F_in_octave_3_|_A_in_octave_4} {D_in_octave_4_|_E_in_octave_4_|_G_in_octave_3_|_B_in_octave_4} {C_in_octave_4_|_D_in_octave_4_|_F_in_octave_3_|_A_in_octave_4} {B_in_octave_3_|_D_in_octave_4_|_E_in_octave_3_|_G_in_octave_4} \n",
      "{C_in_octave_4_|_E_in_octave_4_|_F_in_octave_3_|_A_in_octave_4} {D_in_octave_4_|_E_in_octave_4_|_G_in_octave_3_|_B_in_octave_3} {G_in_octave_3_|_A_in_octave_4_|_C-sharp_in_octave_4_|_E_in_octave_4} {C_in_octave_4_|_E_in_octave_4_|_F_in_octave_3_|_A_in_octave_4} {F_in_octave_3_|_A_in_octave_4_|_B_in_octave_3_|_E_in_octave_4} {C_in_octave_4_|_D_in_octave_4_|_F_in_octave_3_|_A_in_octave_4} {F_in_octave_3_|_A_in_octave_4_|_B_in_octave_3_|_E_in_octave_4} {B_in_octave_3_|_D_in_octave_4_|_E_in_octave_3_|_G_in_octave_4} {C_in_octave_4_|_D_in_octave_4_|_F_in_octave_3_|_A_in_octave_4} {D_in_octave_4_|_E_in_octave_4_|_G_in_octave_3_|_B_in_octave_4} {E-flat_in_octave_4_|_G_in_octave_4_|_A_in_octave_3_|_C_in_octave_5} {D_in_octave_4_|_E_in_octave_4_|_G_in_octave_3_|_B_in_octave_4} {G_in_octave_3_|_B-flat_in_octave_4_|_C-sharp_in_octave_4_|_F_in_octave_4} {C_in_octave_4_|_D_in_octave_4_|_F_in_octave_3_|_A_in_octave_3} {F_in_octave_3_|_A_in_octave_4_|_B_in_octave_3_|_E_in_octave_4} {B_in_octave_3_|_D_in_octave_4_|_E_in_octave_3_|_G_in_octave_4} {C_in_octave_4_|_E_in_octave_4_|_F_in_octave_3_|_A_in_octave_3} {F_in_octave_3_|_A_in_octave_4_|_B_in_octave_3_|_E_in_octave_4} {B_in_octave_3_|_D_in_octave_4_|_E_in_octave_3_|_G_in_octave_3} {C_in_octave_4_|_E_in_octave_4_|_F_in_octave_3_|_A_in_octave_3} \n",
      "{D_in_octave_4_|_E_in_octave_4_|_G_in_octave_3_|_B_in_octave_3} {C_in_octave_4_|_D_in_octave_4_|_F_in_octave_3_|_A_in_octave_4} {B_in_octave_3_|_D_in_octave_4_|_E_in_octave_3_|_G_in_octave_4} {C_in_octave_4_|_D_in_octave_4_|_F_in_octave_3_|_A_in_octave_4} {D_in_octave_4_|_E_in_octave_4_|_G_in_octave_3_|_B_in_octave_3} {C_in_octave_4_|_D_in_octave_4_|_F_in_octave_3_|_A_in_octave_4} {B_in_octave_3_|_D_in_octave_4_|_E_in_octave_3_|_G_in_octave_3} {C_in_octave_4_|_E_in_octave_4_|_F_in_octave_3_|_A_in_octave_4} {D_in_octave_4_|_E_in_octave_4_|_G_in_octave_3_|_B_in_octave_3} {G_in_octave_3_|_B-flat_in_octave_4_|_C-sharp_in_octave_4_|_F_in_octave_4} {C_in_octave_4_|_D_in_octave_4_|_F_in_octave_3_|_A_in_octave_4} {F_in_octave_3_|_A_in_octave_4_|_B_in_octave_3_|_E_in_octave_4} {C_in_octave_4_|_E_in_octave_4_|_F_in_octave_3_|_A_in_octave_4} {F_in_octave_3_|_A_in_octave_3_|_B_in_octave_3_|_E_in_octave_4} {B_in_octave_3_|_D_in_octave_4_|_E_in_octave_3_|_G_in_octave_4} {C_in_octave_4_|_E_in_octave_4_|_F_in_octave_3_|_A_in_octave_4} {D_in_octave_4_|_E_in_octave_4_|_G_in_octave_3_|_B_in_octave_4} {E-flat_in_octave_4_|_G_in_octave_4_|_A_in_octave_3_|_D_in_octave_4} {D_in_octave_4_|_E_in_octave_4_|_G_in_octave_3_|_B_in_octave_4} {G_in_octave_3_|_B-flat_in_octave_4_|_C-sharp_in_octave_4_|_F_in_octave_4} \n",
      "{C_in_octave_4_|_E_in_octave_4_|_F_in_octave_3_|_A_in_octave_4} {F_in_octave_3_|_A_in_octave_4_|_B_in_octave_3_|_E_in_octave_4} {B_in_octave_3_|_D_in_octave_4_|_E_in_octave_3_|_G_in_octave_3} {F_in_octave_3_|_G_in_octave_3_|_B-flat_in_octave_3_|_D_in_octave_4} {B-flat_in_octave_3_|_D_in_octave_4_|_E_in_octave_3_|_G_in_octave_4} {E-flat_in_octave_3_|_G_in_octave_4_|_A_in_octave_3_|_C_in_octave_4} {B_in_octave_3_|_D_in_octave_4_|_E_in_octave_3_|_G_in_octave_3} {E-flat_in_octave_3_|_G_in_octave_3_|_G-sharp_in_octave_3_|_C_in_octave_4} {G-sharp_in_octave_3_|_C_in_octave_4_|_D_in_octave_4_|_G_in_octave_4} {D_in_octave_4_|_E_in_octave_4_|_G_in_octave_3_|_B_in_octave_4} {G_in_octave_3_|_B_in_octave_4_|_C-sharp_in_octave_4_|_E_in_octave_4} {C-sharp_in_octave_4_|_E-flat_in_octave_4_|_F-sharp_in_octave_3_|_B-flat_in_octave_3} {F-sharp_in_octave_3_|_B-flat_in_octave_3_|_C_in_octave_4_|_F_in_octave_4} {C_in_octave_4_|_D_in_octave_4_|_F_in_octave_3_|_A_in_octave_4} {B_in_octave_3_|_D_in_octave_4_|_E_in_octave_3_|_G_in_octave_3} {C_in_octave_4_|_E_in_octave_4_|_F_in_octave_3_|_A_in_octave_4} {D_in_octave_4_|_E_in_octave_4_|_G_in_octave_3_|_B_in_octave_4} {C_in_octave_4_|_E_in_octave_4_|_F_in_octave_3_|_A_in_octave_4} {B_in_octave_3_|_D_in_octave_4_|_E_in_octave_3_|_G_in_octave_4} {C_in_octave_4_|_E_in_octave_4_|_F_in_octave_3_|_A_in_octave_3} \n",
      "{D_in_octave_4_|_E_in_octave_4_|_G_in_octave_3_|_B_in_octave_4} {C_in_octave_4_|_E_in_octave_4_|_F_in_octave_3_|_A_in_octave_3} {B_in_octave_3_|_D_in_octave_4_|_E_in_octave_3_|_G_in_octave_3} {C_in_octave_4_|_E_in_octave_4_|_F_in_octave_3_|_A_in_octave_4} {D_in_octave_4_|_E_in_octave_4_|_G_in_octave_3_|_B_in_octave_4} {G_in_octave_3_|_B-flat_in_octave_3_|_C-sharp_in_octave_4_|_F_in_octave_4} {C_in_octave_4_|_D_in_octave_4_|_F_in_octave_3_|_A_in_octave_4} {F_in_octave_3_|_A_in_octave_3_|_B_in_octave_3_|_E_in_octave_4} {C_in_octave_4_|_E_in_octave_4_|_F_in_octave_3_|_A_in_octave_3} {F_in_octave_3_|_A_in_octave_4_|_B_in_octave_3_|_E_in_octave_4} {B_in_octave_3_|_D_in_octave_4_|_E_in_octave_3_|_G_in_octave_4} {C_in_octave_4_|_D_in_octave_4_|_F_in_octave_3_|_A_in_octave_4} {D_in_octave_4_|_E_in_octave_4_|_G_in_octave_3_|_B_in_octave_3} {E-flat_in_octave_4_|_G_in_octave_4_|_A_in_octave_3_|_D_in_octave_5} {D_in_octave_4_|_E_in_octave_4_|_G_in_octave_3_|_B_in_octave_3} {G_in_octave_3_|_B-flat_in_octave_3_|_C-sharp_in_octave_4_|_F_in_octave_4} {C_in_octave_4_|_E_in_octave_4_|_F_in_octave_3_|_A_in_octave_4} {F_in_octave_3_|_A_in_octave_3_|_B_in_octave_3_|_E_in_octave_4} {B_in_octave_3_|_D_in_octave_4_|_E_in_octave_3_|_G_in_octave_4} {C_in_octave_4_|_E_in_octave_4_|_F_in_octave_3_|_A_in_octave_3} \n",
      "{F_in_octave_3_|_A_in_octave_4_|_B_in_octave_3_|_E_in_octave_4} {B_in_octave_3_|_D_in_octave_4_|_E_in_octave_3_|_G_in_octave_3} {C_in_octave_4_|_D_in_octave_4_|_F_in_octave_3_|_A_in_octave_3} {D_in_octave_4_|_E_in_octave_4_|_G_in_octave_3_|_B_in_octave_4} {C_in_octave_4_|_D_in_octave_4_|_F_in_octave_3_|_A_in_octave_4} {B_in_octave_3_|_D_in_octave_4_|_E_in_octave_3_|_G_in_octave_3} {C_in_octave_4_|_D_in_octave_4_|_F_in_octave_3_|_A_in_octave_4} {D_in_octave_4_|_E_in_octave_4_|_G_in_octave_3_|_B_in_octave_3} {C_in_octave_4_|_E_in_octave_4_|_F_in_octave_3_|_A_in_octave_3} {B_in_octave_3_|_D_in_octave_4_|_E_in_octave_3_|_G_in_octave_4} {C_in_octave_4_|_D_in_octave_4_|_F_in_octave_3_|_A_in_octave_4} {D_in_octave_4_|_E_in_octave_4_|_G_in_octave_3_|_B_in_octave_3} {G_in_octave_3_|_B-flat_in_octave_4_|_C-sharp_in_octave_4_|_E_in_octave_4} {C_in_octave_4_|_E_in_octave_4_|_F_in_octave_3_|_A_in_octave_3} {F_in_octave_3_|_A_in_octave_4_|_B_in_octave_3_|_E_in_octave_4} {C_in_octave_4_|_E_in_octave_4_|_F_in_octave_3_|_A_in_octave_4} {F_in_octave_3_|_A_in_octave_4_|_B_in_octave_3_|_E_in_octave_4} {B_in_octave_3_|_D_in_octave_4_|_E_in_octave_3_|_G_in_octave_4} {C_in_octave_4_|_D_in_octave_4_|_F_in_octave_3_|_A_in_octave_3} {D_in_octave_4_|_E_in_octave_4_|_G_in_octave_3_|_B_in_octave_4} \n",
      "{E-flat_in_octave_4_|_G_in_octave_4_|_A_in_octave_3_|_D_in_octave_5_|_B_in_octave_3} {D_in_octave_4_|_E_in_octave_4_|_G_in_octave_3_|_B_in_octave_4} {G_in_octave_3_|_B-flat_in_octave_4_|_C-sharp_in_octave_4_|_F_in_octave_4} {C_in_octave_4_|_D_in_octave_4_|_F_in_octave_3_|_A_in_octave_3} {F_in_octave_3_|_A_in_octave_4_|_B_in_octave_3_|_E_in_octave_4} {B_in_octave_3_|_D_in_octave_4_|_E_in_octave_3_|_G_in_octave_3} {C_in_octave_4_|_E_in_octave_4_|_F_in_octave_3_|_A_in_octave_4} {F_in_octave_3_|_A_in_octave_4_|_B_in_octave_3_|_E_in_octave_4} {B_in_octave_3_|_D_in_octave_4_|_E_in_octave_3_|_G_in_octave_3} {C_in_octave_4_|_E_in_octave_4_|_F_in_octave_3_|_A_in_octave_4} {D_in_octave_4_|_E_in_octave_4_|_G_in_octave_3_|_B_in_octave_4} {C_in_octave_4_|_E_in_octave_4_|_F_in_octave_3_|_A_in_octave_3} {B_in_octave_3_|_D_in_octave_4_|_E_in_octave_3_|_G_in_octave_3} {C_in_octave_4_|_E_in_octave_4_|_F_in_octave_3_|_A_in_octave_4} {D_in_octave_4_|_E_in_octave_4_|_G_in_octave_3_|_B_in_octave_3} {C_in_octave_4_|_E_in_octave_4_|_F_in_octave_3_|_A_in_octave_3} {B_in_octave_3_|_D_in_octave_4_|_E_in_octave_3_|_G_in_octave_4} {C_in_octave_4_|_E_in_octave_4_|_F_in_octave_3_|_A_in_octave_3} {D_in_octave_4_|_E_in_octave_4_|_G_in_octave_3_|_B_in_octave_4} {G_in_octave_3_|_A_in_octave_4_|_C-sharp_in_octave_4_|_E_in_octave_4} \n",
      "{C_in_octave_4_|_E_in_octave_4_|_F_in_octave_3_|_A_in_octave_4} {F_in_octave_3_|_A_in_octave_4_|_B_in_octave_3_|_E_in_octave_4} {C_in_octave_4_|_D_in_octave_4_|_F_in_octave_3_|_A_in_octave_3} {F_in_octave_3_|_A_in_octave_3_|_B_in_octave_3_|_E_in_octave_4} {B_in_octave_3_|_D_in_octave_4_|_E_in_octave_3_|_G_in_octave_3} {C_in_octave_4_|_D_in_octave_4_|_F_in_octave_3_|_A_in_octave_3} {D_in_octave_4_|_E_in_octave_4_|_G_in_octave_3_|_B_in_octave_4} {E-flat_in_octave_4_|_G_in_octave_4_|_A_in_octave_3_|_D_in_octave_5} {D_in_octave_4_|_E_in_octave_4_|_G_in_octave_3_|_B_in_octave_4} {G_in_octave_3_|_B-flat_in_octave_4_|_C-sharp_in_octave_4_|_F_in_octave_4} {C_in_octave_4_|_D_in_octave_4_|_F_in_octave_3_|_A_in_octave_4} {F_in_octave_3_|_A_in_octave_4_|_B_in_octave_3_|_E_in_octave_4} {B_in_octave_3_|_D_in_octave_4_|_E_in_octave_3_|_G_in_octave_3} {F_in_octave_3_|_G_in_octave_4_|_B-flat_in_octave_3_|_D_in_octave_4} {B-flat_in_octave_3_|_C-sharp_in_octave_4_|_E_in_octave_3_|_G_in_octave_4} {E-flat_in_octave_3_|_G_in_octave_3_|_A_in_octave_3_|_D_in_octave_4} {B_in_octave_3_|_D_in_octave_4_|_E_in_octave_3_|_G_in_octave_4} {E-flat_in_octave_3_|_G_in_octave_4_|_G-sharp_in_octave_3_|_C_in_octave_4} {G-sharp_in_octave_3_|_C_in_octave_4_|_D_in_octave_4_|_G_in_octave_4} {D_in_octave_4_|_E_in_octave_4_|_G_in_octave_3_|_B_in_octave_4} \n",
      "{G_in_octave_3_|_B_in_octave_4_|_C-sharp_in_octave_4_|_E_in_octave_4} {C-sharp_in_octave_4_|_E-flat_in_octave_4_|_F-sharp_in_octave_3_|_B-flat_in_octave_4} {F-sharp_in_octave_3_|_B-flat_in_octave_3_|_C_in_octave_4_|_E-flat_in_octave_4} {C_in_octave_4_|_E_in_octave_4_|_F_in_octave_3_|_A_in_octave_3} {B_in_octave_3_|_D_in_octave_4_|_E_in_octave_3_|_G_in_octave_4} {C_in_octave_4_|_E_in_octave_4_|_F_in_octave_3_|_A_in_octave_4} {D_in_octave_4_|_E_in_octave_4_|_G_in_octave_3_|_B_in_octave_3} {C_in_octave_4_|_D_in_octave_4_|_F_in_octave_3_|_A_in_octave_3} {B_in_octave_3_|_D_in_octave_4_|_E_in_octave_3_|_G_in_octave_4} {C_in_octave_4_|_E_in_octave_4_|_F_in_octave_3_|_A_in_octave_3} {D_in_octave_4_|_E_in_octave_4_|_G_in_octave_3_|_B_in_octave_4} {C_in_octave_4_|_D_in_octave_4_|_F_in_octave_3_|_A_in_octave_4} {B_in_octave_3_|_D_in_octave_4_|_E_in_octave_3_|_G_in_octave_4} {C_in_octave_4_|_E_in_octave_4_|_F_in_octave_3_|_A_in_octave_4} {D_in_octave_4_|_E_in_octave_4_|_G_in_octave_3_|_B_in_octave_4} {G_in_octave_3_|_B-flat_in_octave_4_|_C-sharp_in_octave_4_|_F_in_octave_4} {C_in_octave_4_|_D_in_octave_4_|_F_in_octave_3_|_A_in_octave_3} {F_in_octave_3_|_A_in_octave_4_|_B_in_octave_3_|_E_in_octave_4} {C_in_octave_4_|_D_in_octave_4_|_F_in_octave_3_|_A_in_octave_4} {F_in_octave_3_|_A_in_octave_4_|_B_in_octave_3_|_E_in_octave_4} \n",
      "{B_in_octave_3_|_D_in_octave_4_|_E_in_octave_3_|_G_in_octave_3} {C_in_octave_4_|_D_in_octave_4_|_F_in_octave_3_|_A_in_octave_4} {D_in_octave_4_|_E_in_octave_4_|_G_in_octave_3_|_B_in_octave_4} {E-flat_in_octave_4_|_G_in_octave_4_|_A_in_octave_3_|_C_in_octave_5} {D_in_octave_4_|_E_in_octave_4_|_G_in_octave_3_|_B_in_octave_4} {G_in_octave_3_|_A_in_octave_3_|_C-sharp_in_octave_4_|_E_in_octave_4} {C_in_octave_4_|_E_in_octave_4_|_F_in_octave_3_|_A_in_octave_4} {F_in_octave_3_|_A_in_octave_4_|_B_in_octave_3_|_E_in_octave_4} {B_in_octave_3_|_D_in_octave_4_|_E_in_octave_3_|_G_in_octave_3} {C_in_octave_4_|_E_in_octave_4_|_F_in_octave_3_|_A_in_octave_4} {F_in_octave_3_|_A_in_octave_4_|_B_in_octave_3_|_E_in_octave_4} {B_in_octave_3_|_D_in_octave_4_|_E_in_octave_3_|_G_in_octave_4} {C_in_octave_4_|_D_in_octave_4_|_F_in_octave_3_|_A_in_octave_4} {D_in_octave_4_|_E_in_octave_4_|_G_in_octave_3_|_B_in_octave_3} {C_in_octave_4_|_E_in_octave_4_|_F_in_octave_3_|_A_in_octave_4} {B_in_octave_3_|_D_in_octave_4_|_E_in_octave_3_|_G_in_octave_3} {C_in_octave_4_|_D_in_octave_4_|_F_in_octave_3_|_A_in_octave_4} {D_in_octave_4_|_E_in_octave_4_|_G_in_octave_3_|_B_in_octave_4} {C_in_octave_4_|_E_in_octave_4_|_F_in_octave_3_|_A_in_octave_4} {B_in_octave_3_|_D_in_octave_4_|_E_in_octave_3_|_G_in_octave_3} \n",
      "{C_in_octave_4_|_E_in_octave_4_|_F_in_octave_3_|_A_in_octave_4} {D_in_octave_4_|_E_in_octave_4_|_G_in_octave_3_|_B_in_octave_4} {G_in_octave_3_|_B-flat_in_octave_3_|_C-sharp_in_octave_4_|_F_in_octave_4} {C_in_octave_4_|_E_in_octave_4_|_F_in_octave_3_|_A_in_octave_4} {F_in_octave_3_|_A_in_octave_4_|_B_in_octave_3_|_E_in_octave_4} {C_in_octave_4_|_E_in_octave_4_|_F_in_octave_3_|_A_in_octave_3} {F_in_octave_3_|_A_in_octave_3_|_B_in_octave_3_|_E_in_octave_4} {B_in_octave_3_|_D_in_octave_4_|_E_in_octave_3_|_G_in_octave_4} {C_in_octave_4_|_E_in_octave_4_|_F_in_octave_3_|_A_in_octave_4} {D_in_octave_4_|_E_in_octave_4_|_G_in_octave_3_|_B_in_octave_3} {E-flat_in_octave_4_|_G_in_octave_4_|_A_in_octave_3_|_D_in_octave_5_|_B_in_octave_3} {D_in_octave_4_|_E_in_octave_4_|_G_in_octave_3_|_B_in_octave_3} {G_in_octave_3_|_B-flat_in_octave_4_|_C-sharp_in_octave_4_|_F_in_octave_4} {C_in_octave_4_|_E_in_octave_4_|_F_in_octave_3_|_A_in_octave_3} {F_in_octave_3_|_A_in_octave_4_|_B_in_octave_3_|_E_in_octave_4} {B_in_octave_3_|_D_in_octave_4_|_E_in_octave_3_|_G_in_octave_3} {C_in_octave_4_|_E_in_octave_4_|_F_in_octave_3_|_A_in_octave_4} {F_in_octave_3_|_A_in_octave_4_|_B_in_octave_3_|_E_in_octave_4} {B_in_octave_3_|_D_in_octave_4_|_E_in_octave_3_|_G_in_octave_3} {C_in_octave_4_|_E_in_octave_4_|_F_in_octave_3_|_A_in_octave_4} \n",
      "{D_in_octave_4_|_E_in_octave_4_|_G_in_octave_3_|_B_in_octave_3} {C_in_octave_4_|_E_in_octave_4_|_F_in_octave_3_|_A_in_octave_3} {B_in_octave_3_|_D_in_octave_4_|_E_in_octave_3_|_G_in_octave_4} {C_in_octave_4_|_D_in_octave_4_|_F_in_octave_3_|_A_in_octave_4} {D_in_octave_4_|_E_in_octave_4_|_G_in_octave_3_|_B_in_octave_4} {C_in_octave_4_|_D_in_octave_4_|_F_in_octave_3_|_A_in_octave_3} {B_in_octave_3_|_D_in_octave_4_|_E_in_octave_3_|_G_in_octave_3} {C_in_octave_4_|_D_in_octave_4_|_F_in_octave_3_|_A_in_octave_4} {D_in_octave_4_|_E_in_octave_4_|_G_in_octave_3_|_B_in_octave_4} {G_in_octave_3_|_B-flat_in_octave_3_|_C-sharp_in_octave_4_|_E_in_octave_4} {C_in_octave_4_|_E_in_octave_4_|_F_in_octave_3_|_A_in_octave_4} {F_in_octave_3_|_A_in_octave_4_|_B_in_octave_3_|_E_in_octave_4} {C_in_octave_4_|_D_in_octave_4_|_F_in_octave_3_|_A_in_octave_4} {F_in_octave_3_|_A_in_octave_3_|_B_in_octave_3_|_E_in_octave_4} {B_in_octave_3_|_D_in_octave_4_|_E_in_octave_3_|_G_in_octave_3} {C_in_octave_4_|_E_in_octave_4_|_F_in_octave_3_|_A_in_octave_4} {D_in_octave_4_|_E_in_octave_4_|_G_in_octave_3_|_B_in_octave_4} {E-flat_in_octave_4_|_G_in_octave_4_|_A_in_octave_3_|_C_in_octave_4} {D_in_octave_4_|_E_in_octave_4_|_G_in_octave_3_|_B_in_octave_4} {G_in_octave_3_|_C_in_octave_5_|_C-sharp_in_octave_4_|_E_in_octave_4} \n",
      "{C_in_octave_4_|_E_in_octave_4_|_F_in_octave_3_|_A_in_octave_4} {F_in_octave_3_|_A_in_octave_3_|_B_in_octave_3_|_E_in_octave_4} {B_in_octave_3_|_D_in_octave_4_|_E_in_octave_3_|_G_in_octave_4} {F_in_octave_3_|_G_in_octave_4_|_B-flat_in_octave_3_|_D_in_octave_4} {B-flat_in_octave_3_|_C-sharp_in_octave_4_|_E_in_octave_3_|_G-sharp_in_octave_3} {E-flat_in_octave_3_|_G_in_octave_3_|_A_in_octave_3_|_C_in_octave_4} {B_in_octave_3_|_D_in_octave_4_|_E_in_octave_3_|_G_in_octave_4} {E-flat_in_octave_3_|_F_in_octave_3_|_G-sharp_in_octave_3_|_C_in_octave_4} {G-sharp_in_octave_3_|_C_in_octave_5_|_D_in_octave_4_|_G_in_octave_4} {D_in_octave_4_|_E_in_octave_4_|_G_in_octave_3_|_B_in_octave_4} {G_in_octave_3_|_B_in_octave_4_|_C-sharp_in_octave_4_|_F-sharp_in_octave_4} {C-sharp_in_octave_4_|_F_in_octave_4_|_F-sharp_in_octave_3_|_B-flat_in_octave_3} {F-sharp_in_octave_3_|_B-flat_in_octave_4_|_C_in_octave_4_|_F_in_octave_4} {C_in_octave_4_|_D_in_octave_4_|_F_in_octave_3_|_A_in_octave_4} {B_in_octave_3_|_D_in_octave_4_|_E_in_octave_3_|_G_in_octave_4} {C_in_octave_4_|_E_in_octave_4_|_F_in_octave_3_|_A_in_octave_3} {D_in_octave_4_|_E_in_octave_4_|_G_in_octave_3_|_B_in_octave_3} {C_in_octave_4_|_D_in_octave_4_|_F_in_octave_3_|_A_in_octave_4} {B_in_octave_3_|_D_in_octave_4_|_E_in_octave_3_|_G_in_octave_3} {C_in_octave_4_|_E_in_octave_4_|_F_in_octave_3_|_A_in_octave_4} \n",
      "{D_in_octave_4_|_E_in_octave_4_|_G_in_octave_3_|_B_in_octave_4} {C_in_octave_4_|_E_in_octave_4_|_F_in_octave_3_|_A_in_octave_3} {B_in_octave_3_|_D_in_octave_4_|_E_in_octave_3_|_G_in_octave_4} {C_in_octave_4_|_D_in_octave_4_|_F_in_octave_3_|_A_in_octave_4} {D_in_octave_4_|_E_in_octave_4_|_G_in_octave_3_|_B_in_octave_4} {G_in_octave_3_|_B-flat_in_octave_3_|_C-sharp_in_octave_4_|_F_in_octave_4} {C_in_octave_4_|_D_in_octave_4_|_F_in_octave_3_|_A_in_octave_4} {F_in_octave_3_|_A_in_octave_4_|_B_in_octave_3_|_E_in_octave_4} {C_in_octave_4_|_D_in_octave_4_|_F_in_octave_3_|_A_in_octave_3} {F_in_octave_3_|_A_in_octave_4_|_B_in_octave_3_|_E_in_octave_4} {B_in_octave_3_|_D_in_octave_4_|_E_in_octave_3_|_G_in_octave_4} {C_in_octave_4_|_E_in_octave_4_|_F_in_octave_3_|_A_in_octave_4} {D_in_octave_4_|_E_in_octave_4_|_G_in_octave_3_|_B_in_octave_3} {E-flat_in_octave_4_|_G_in_octave_4_|_A_in_octave_3_|_D_in_octave_5} {D_in_octave_4_|_E_in_octave_4_|_G_in_octave_3_|_B_in_octave_4} {G_in_octave_3_|_C_in_octave_5_|_C-sharp_in_octave_4_|_E_in_octave_4} {C_in_octave_4_|_E_in_octave_4_|_F_in_octave_3_|_A_in_octave_3} {F_in_octave_3_|_A_in_octave_3_|_B_in_octave_3_|_E_in_octave_4} {B_in_octave_3_|_D_in_octave_4_|_E_in_octave_3_|_G_in_octave_4} {C_in_octave_4_|_E_in_octave_4_|_F_in_octave_3_|_A_in_octave_4} \n",
      "{F_in_octave_3_|_A_in_octave_3_|_B_in_octave_3_|_E_in_octave_4} {A_in_octave_3_|_D_in_octave_4_|_E_in_octave_3_|_G_in_octave_4} \n",
      "\n",
      "\n",
      "--------This is type.chord--------\n",
      "C#3 F#2 F#2 F#2 F#2 F#2 F#2 F#2 F#2 F#2 F#2 F#2 F#2 F#2 F#2 F#2 F#2 F#2 F#2 F#2 \n",
      "F#2 F#2 F#2 F#2 F#2 F#2 F#2 F#2 F#2 F#2 F#2 F#2 F#2 E F#2 F#2 F#2 F#2 F#2 F#2 \n",
      "F#2 F#2 F#2 F#2 F#2 F#2 F#2 F#2 F#2 F#2 F#2 F#2 F#2 F#2 F#2 F#2 F#2 F#2 F#2 F#2 \n",
      "F#2 F#2 F#2 F#2 F#2 D2 C#3 F#2 F#2 F#2 F#2 F#2 F#2 F#2 F#2 F#2 F#2 F#2 F#2 F#2 \n",
      "F#2 F#2 D2 F#2 F#2 F#2 F#2 F#2 F#2 F#2 F#2 F#2 F#2 F#2 F#2 F#2 F#2 F#2 F#2 F#2 \n",
      "F#2 F#2 F#2 F#2 F#2 F#2 F#2 F#2 F#2 F#2 F#2 F#2 F#2 F#2 F#2 E F#2 F#2 F#2 F#2 \n",
      "F#2 F#2 F#2 F#2 F#2 F#2 F#2 F#2 F#2 F#2 F#2 F#2 F#2 F#2 F#2 F#2 F#2 F#2 F#2 F#2 \n",
      "F#2 F#2 F#2 F#2 F#2 F#2 F#2 D2 F#2 F#2 F#2 F#2 F#2 F#2 F#2 F#2 F#2 F#2 F#2 F#2 \n",
      "F#2 F#2 F#2 F#2 F#2 F#2 F#2 F#2 F#2 F#2 F#2 F#2 F#2 F#2 F#2 F#2 F#2 F#2 F#2 F#2 \n",
      "E C#3 F#2 F#2 F#2 F#2 F#2 F#2 F#2 F#2 F#2 F#2 F#2 F#2 F#2 F#2 F#2 F#2 E F#2 \n",
      "F#2 F#2 F#2 F#2 F#2 F#2 F#2 F#2 F#2 F#2 F#2 F#2 F#2 F#2 F#2 F#2 F#2 F#2 F#2 F#2 \n",
      "F#2 F#2 F#2 F#2 F#2 F#2 F#2 F#2 F#2 F#2 D2 F#2 F#2 F#2 F#2 F#2 F#2 F#2 F#2 F#2 \n",
      "F#2 F#2 F#2 F#2 F#2 F#2 F#2 F#2 F#2 F#2 F#2 F#2 F#2 F#2 F#2 F#2 F#2 F#2 F#2 F#2 \n",
      "F#2 F#2 F#2 E F#2 F#2 F#2 F#2 F#2 F#2 F#2 F#2 F#2 F#2 F#2 F#2 F#2 F#2 F#2 F#2 \n",
      "F#2 F#2 F#2 F#2 F#2 F#2 F#2 F#2 F#2 F#2 F#2 F#2 F#2 F#2 F#2 F#2 E F#2 F#2 F#2 \n",
      "F#2 F#2 F#2 F#2 F#2 F#2 F#2 F#2 F#2 F#2 F#2 F#2 F#2 E C#3 F#2 F#2 F#2 F#2 F#2 \n",
      "F#2 F#2 F#2 F#2 F#2 F#2 F#2 F#2 F#2 F#2 F#2 F#2 F#2 F#2 F#2 F#2 F#2 F#2 F#2 F#2 \n",
      "F#2 F#2 F#2 F#2 F#2 F#2 D2 F#2 F#2 D2 E E3 F3 E4 D4 E3 D4 E4 D4 E3 \n",
      "F3 E4 A4 F3 F3 D4 F3 E3 D4 E4 A3 E4 G3 D4 F3 E3 F3 F3 E3 F3 \n",
      "E4 D4 E3 D4 E4 D4 E3 F3 E4 G3 D4 F3 F3 F3 E3 F3 E4 E E4 G3 \n",
      "F3 F3 E3 G3 E3 A3 E3 C4 C4 E4 C#4 C#4 B D4 E3 F3 E4 F3 E3 F3 \n",
      "E4 F3 E3 F3 E4 G3 D4 F3 F3 F3 E3 D4 E4 E E4 G3 F3 F3 E3 F3 \n",
      "F3 E3 D4 E4 D4 E3 D4 E4 F3 E3 D4 E4 C#4 F3 F3 F3 F3 E3 D4 E4 \n",
      "E E4 G3 D4 F3 E3 F3 F3 E3 F3 E4 F3 E3 F3 E4 F3 E3 F3 E4 A4 \n",
      "F3 F3 D4 F3 E3 D4 E4 E E4 G3 D4 F3 E3 G4 C#4 E E3 C4 C4 E4 \n",
      "C#4 C#4 C4 F3 E3 F3 E4 D4 E3 F3 E4 D4 E3 F3 E4 G3 D4 F3 D4 F3 \n",
      "E3 D4 E4 A3 E4 A3 F3 F3 E3 F3 F3 E3 D4 E4 F3 E3 D4 E4 F3 E3 \n",
      "F3 E4 G3 F3 F3 F3 F3 E3 F3 E4 E E4 G3 F3 F3 E3 F3 F3 E3 F3 \n",
      "E4 F3 E3 D4 E4 D4 E3 D4 E4 C#4 F3 F3 D4 F3 E3 F3 E4 A3 E4 C5 \n",
      "F3 F3 E3 G4 C#4 A3 E3 C4 C5 E4 G3 B B D4 E3 F3 E4 D4 E3 F3 \n",
      "E4 F3 E3 D4 E4 G3 D4 F3 D4 F3 E3 F3 E4 E E4 C5 F3 F3 E3 F3 \n",
      "F3 E3 \n"
     ]
    }
   ],
   "source": [
    "file_path = \"function-example/Billy-Boy_chord.txt\"\n",
    "split_length = 20\n",
    "out_node_path = \"function-example/Billy-Boy_chord.node\"\n",
    "out_chord_path = \"function-example/Billy-Boy_chord.chord\"\n",
    "ExtractNodeAndChord(file_path, split_length,out_node_path,out_chord_path)"
   ]
  },
  {
   "cell_type": "code",
   "execution_count": 32,
   "metadata": {},
   "outputs": [
    {
     "name": "stdout",
     "output_type": "stream",
     "text": [
      "Total node: 32\n",
      "Total chord: 32\n"
     ]
    }
   ],
   "source": [
    "print (\"Total node:\",len(open(\"function-example/Billy-Boy_chord.chord\",'r').readlines()))\n",
    "print (\"Total chord:\",len(open(\"function-example/Billy-Boy_chord.node\",'r').readlines()))"
   ]
  },
  {
   "cell_type": "markdown",
   "metadata": {},
   "source": [
    "### Function 3\n",
    "**RemoveDuplicateVocab** is used to remove the deplicate word in a vocabulary. The input file is a vocabulary file(.chord/.node) and the output file remove the duplicate words. "
   ]
  },
  {
   "cell_type": "code",
   "execution_count": 65,
   "metadata": {},
   "outputs": [
    {
     "name": "stdout",
     "output_type": "stream",
     "text": [
      "{'F#2', '\\n', 'D4', 'C4', 'G3', 'A4', 'C5', 'E4', 'C#4', 'B', 'D2', 'E', 'E3', 'F3', 'C#3', 'G4', 'A3'}\n"
     ]
    }
   ],
   "source": [
    "vob = set()\n",
    "with open(\"function-example/Billy-Boy_chord.chord\", 'r') as f:\n",
    "    read_data = f.readlines()\n",
    "for lines in read_data:\n",
    "    for c in lines.split(\" \"):\n",
    "        if c:\n",
    "            vob.add(c)\n",
    "print (vob)"
   ]
  },
  {
   "cell_type": "code",
   "execution_count": 66,
   "metadata": {},
   "outputs": [],
   "source": [
    "with open(\"function-example/Billy-Boy_chord.vocab\", 'w') as f:\n",
    "    for c in vob:\n",
    "        if c:\n",
    "            f.write(c+'\\n')"
   ]
  },
  {
   "cell_type": "code",
   "execution_count": 67,
   "metadata": {},
   "outputs": [],
   "source": [
    "def RemoveDuplicateVocab(vocabFile):\n",
    "    words = []\n",
    "    num = 0\n",
    "    with open(vocabFile, 'r') as f:\n",
    "        for line in f:\n",
    "            line = line.strip()\n",
    "            if line not in words:\n",
    "                words.append(line)\n",
    "            else:\n",
    "                num += 1\n",
    "                print(\"Remove\",num ,\"duplicate words!\")\n",
    "        f.close()\n",
    "    try:\n",
    "        os.remove(vocabFile)\n",
    "    except OSError:\n",
    "        pass\n",
    "    with open(vocabFile, 'w') as f:\n",
    "        for word in words:\n",
    "            f.write(word +'\\n')\n",
    "        f.close()"
   ]
  },
  {
   "cell_type": "code",
   "execution_count": 68,
   "metadata": {},
   "outputs": [
    {
     "name": "stdout",
     "output_type": "stream",
     "text": [
      "Find 1 duplicate words!\n"
     ]
    }
   ],
   "source": [
    "vocabFile = \"function-example/Billy-Boy_chord.vocab\"\n",
    "RemoveDuplicateVocab(vocabFile)"
   ]
  },
  {
   "cell_type": "markdown",
   "metadata": {},
   "source": [
    "### Function 4\n",
    "**RemoveEmptyLine** is used to remove the empty lines in a file."
   ]
  },
  {
   "cell_type": "code",
   "execution_count": 14,
   "metadata": {},
   "outputs": [],
   "source": [
    "def RemoveEmptyLine(file_path):\n",
    "    lines = []\n",
    "    num = 0\n",
    "    with open(file_path, 'r') as f:\n",
    "        for line in f:\n",
    "            line = line.strip()\n",
    "            if len(line) == 0:\n",
    "                num += 1\n",
    "                continue\n",
    "            else:\n",
    "                lines.append(line)\n",
    "        f.close()\n",
    "    try:\n",
    "        os.remove(file_path)\n",
    "    except OSError:\n",
    "        pass\n",
    "    with open(file_path, 'w') as f:\n",
    "        for line in lines:\n",
    "            f.write(line+'\\n')\n",
    "        f.close()\n",
    "    print(\"Remove\",num ,\"empty lines!\")"
   ]
  },
  {
   "cell_type": "code",
   "execution_count": 15,
   "metadata": {},
   "outputs": [
    {
     "name": "stdout",
     "output_type": "stream",
     "text": [
      "Remove 1 empty lines!\n"
     ]
    }
   ],
   "source": [
    "file_path = \"function-example/Billy-Boy_chord.vocab\"\n",
    "RemoveEmptyLine(file_path)"
   ]
  },
  {
   "cell_type": "markdown",
   "metadata": {},
   "source": [
    "### Function 5\n",
    "**PrintNumLines** is used to print sever lines in a file."
   ]
  },
  {
   "cell_type": "code",
   "execution_count": 25,
   "metadata": {},
   "outputs": [],
   "source": [
    "def PrintNumLines(file_path,num):\n",
    "    lines = []\n",
    "    i = 1\n",
    "    with open(file_path,'r') as f:\n",
    "        for line in f:\n",
    "            line = line.strip()\n",
    "            if i <= num:\n",
    "                print(line)\n",
    "                i += 1\n",
    "                continue\n",
    "        f.close()"
   ]
  },
  {
   "cell_type": "code",
   "execution_count": 26,
   "metadata": {},
   "outputs": [
    {
     "name": "stdout",
     "output_type": "stream",
     "text": [
      "F#2\n",
      "D4\n",
      "C4\n",
      "G3\n",
      "A4\n"
     ]
    }
   ],
   "source": [
    "file_path = \"function-example/Billy-Boy_chord.vocab\"\n",
    "num = 5\n",
    "PrintNumLines(file_path,num)"
   ]
  }
 ],
 "metadata": {
  "kernelspec": {
   "display_name": "Python 3",
   "language": "python",
   "name": "python3"
  },
  "language_info": {
   "codemirror_mode": {
    "name": "ipython",
    "version": 3
   },
   "file_extension": ".py",
   "mimetype": "text/x-python",
   "name": "python",
   "nbconvert_exporter": "python",
   "pygments_lexer": "ipython3",
   "version": "3.6.4"
  }
 },
 "nbformat": 4,
 "nbformat_minor": 2
}
